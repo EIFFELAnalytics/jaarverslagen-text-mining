{
 "cells": [
  {
   "cell_type": "markdown",
   "metadata": {},
   "source": [
    "# Text mining jaarverslagen"
   ]
  },
  {
   "cell_type": "markdown",
   "metadata": {},
   "source": [
    "## Run through all jaarverslagen\n",
    "Using `papermill`, see https://papermill.readthedocs.io/en/latest/usage.html.\n",
    "\n",
    "How does this work with my virtual environment `tmj`?\n",
    "* Jupyter Notebook is served from `base` environment which has `widgetnbextension` enabled\n",
    "* Next `ipywidgets` is installed in this kernel's environment `tmj`\n",
    "* See https://ipywidgets.readthedocs.io/en/stable/user_install.html#installing-with-multiple-environments for more info about this"
   ]
  },
  {
   "cell_type": "code",
   "execution_count": 1,
   "metadata": {},
   "outputs": [],
   "source": [
    "import papermill as pm"
   ]
  },
  {
   "cell_type": "markdown",
   "metadata": {},
   "source": [
    "We'll execute the notebook and have the same output file as the input file. This means that the parameters will be inserted (`injected-paramaters` cell) into the original notebook."
   ]
  },
  {
   "cell_type": "code",
   "execution_count": 2,
   "metadata": {
    "scrolled": true
   },
   "outputs": [
    {
     "data": {
      "application/vnd.jupyter.widget-view+json": {
       "model_id": "32843365eecc41edabdf1b0de39b10e1",
       "version_major": 2,
       "version_minor": 0
      },
      "text/plain": [
       "HBox(children=(IntProgress(value=0, max=18), HTML(value='')))"
      ]
     },
     "metadata": {},
     "output_type": "display_data"
    },
    {
     "name": "stdout",
     "output_type": "stream",
     "text": [
      "\n"
     ]
    }
   ],
   "source": [
    "# Execute the notebook\n",
    "pm.execute_notebook(\n",
    "   'analyse_jaarverslag.ipynb',\n",
    "   'analyse_jaarverslag.ipynb',\n",
    "   parameters = dict(filename = 'KPN_2017.pdf',\\\n",
    "                     folder = './jaarverslagen',\\\n",
    "                     language = 'english')\n",
    ");"
   ]
  },
  {
   "cell_type": "code",
   "execution_count": null,
   "metadata": {},
   "outputs": [],
   "source": []
  }
 ],
 "metadata": {
  "kernelspec": {
   "display_name": "tmj",
   "language": "python",
   "name": "tmj"
  },
  "language_info": {
   "codemirror_mode": {
    "name": "ipython",
    "version": 3
   },
   "file_extension": ".py",
   "mimetype": "text/x-python",
   "name": "python",
   "nbconvert_exporter": "python",
   "pygments_lexer": "ipython3",
   "version": "3.7.2"
  }
 },
 "nbformat": 4,
 "nbformat_minor": 2
}
