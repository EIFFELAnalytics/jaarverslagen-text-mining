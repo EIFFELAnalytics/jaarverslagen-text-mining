{
 "cells": [
  {
   "cell_type": "markdown",
   "metadata": {},
   "source": [
    "# Prepare file list\n",
    "Prepares a file list (CSV) with all jaarverslagen in our input folder. A human should open each file and fill in the language (`dutch` or `english`) for that file in the file list afterwards.\n",
    "\n",
    "All jaarverslagen should be PDFs and placed in the input folder directly, so not in subfolders. This script does not search recursive into subfolders."
   ]
  },
  {
   "cell_type": "code",
   "execution_count": 31,
   "metadata": {},
   "outputs": [],
   "source": [
    "import pandas as pd\n",
    "from os import listdir, makedirs\n",
    "from os.path import join, isfile\n",
    "import re\n",
    "\n",
    "# Parameters\n",
    "folder = '../jaarverslagen'\n",
    "file_list_name = 'file_list.csv'"
   ]
  },
  {
   "cell_type": "code",
   "execution_count": 32,
   "metadata": {
    "scrolled": true
   },
   "outputs": [
    {
     "name": "stdout",
     "output_type": "stream",
     "text": [
      "Files found: 8\n"
     ]
    },
    {
     "data": {
      "text/html": [
       "<div>\n",
       "<style scoped>\n",
       "    .dataframe tbody tr th:only-of-type {\n",
       "        vertical-align: middle;\n",
       "    }\n",
       "\n",
       "    .dataframe tbody tr th {\n",
       "        vertical-align: top;\n",
       "    }\n",
       "\n",
       "    .dataframe thead th {\n",
       "        text-align: right;\n",
       "    }\n",
       "</style>\n",
       "<table border=\"1\" class=\"dataframe\">\n",
       "  <thead>\n",
       "    <tr style=\"text-align: right;\">\n",
       "      <th></th>\n",
       "      <th>filename</th>\n",
       "      <th>filename_no_extension</th>\n",
       "      <th>output_folder</th>\n",
       "    </tr>\n",
       "  </thead>\n",
       "  <tbody>\n",
       "    <tr>\n",
       "      <th>0</th>\n",
       "      <td>ABNAMRO_2017.pdf</td>\n",
       "      <td>ABNAMRO_2017</td>\n",
       "      <td>../output/ABNAMRO_2017</td>\n",
       "    </tr>\n",
       "    <tr>\n",
       "      <th>1</th>\n",
       "      <td>AEGON_2017.pdf</td>\n",
       "      <td>AEGON_2017</td>\n",
       "      <td>../output/AEGON_2017</td>\n",
       "    </tr>\n",
       "    <tr>\n",
       "      <th>2</th>\n",
       "      <td>Akzonobel_2017.pdf</td>\n",
       "      <td>Akzonobel_2017</td>\n",
       "      <td>../output/Akzonobel_2017</td>\n",
       "    </tr>\n",
       "    <tr>\n",
       "      <th>3</th>\n",
       "      <td>Heineken_2017.pdf</td>\n",
       "      <td>Heineken_2017</td>\n",
       "      <td>../output/Heineken_2017</td>\n",
       "    </tr>\n",
       "    <tr>\n",
       "      <th>4</th>\n",
       "      <td>ING_Groep_2017.pdf</td>\n",
       "      <td>ING_Groep_2017</td>\n",
       "      <td>../output/ING_Groep_2017</td>\n",
       "    </tr>\n",
       "    <tr>\n",
       "      <th>5</th>\n",
       "      <td>KPN_2017.pdf</td>\n",
       "      <td>KPN_2017</td>\n",
       "      <td>../output/KPN_2017</td>\n",
       "    </tr>\n",
       "    <tr>\n",
       "      <th>6</th>\n",
       "      <td>Philips_2017.pdf</td>\n",
       "      <td>Philips_2017</td>\n",
       "      <td>../output/Philips_2017</td>\n",
       "    </tr>\n",
       "    <tr>\n",
       "      <th>7</th>\n",
       "      <td>Unilever_2017.pdf</td>\n",
       "      <td>Unilever_2017</td>\n",
       "      <td>../output/Unilever_2017</td>\n",
       "    </tr>\n",
       "  </tbody>\n",
       "</table>\n",
       "</div>"
      ],
      "text/plain": [
       "             filename filename_no_extension             output_folder\n",
       "0    ABNAMRO_2017.pdf          ABNAMRO_2017    ../output/ABNAMRO_2017\n",
       "1      AEGON_2017.pdf            AEGON_2017      ../output/AEGON_2017\n",
       "2  Akzonobel_2017.pdf        Akzonobel_2017  ../output/Akzonobel_2017\n",
       "3   Heineken_2017.pdf         Heineken_2017   ../output/Heineken_2017\n",
       "4  ING_Groep_2017.pdf        ING_Groep_2017  ../output/ING_Groep_2017\n",
       "5        KPN_2017.pdf              KPN_2017        ../output/KPN_2017\n",
       "6    Philips_2017.pdf          Philips_2017    ../output/Philips_2017\n",
       "7   Unilever_2017.pdf         Unilever_2017   ../output/Unilever_2017"
      ]
     },
     "execution_count": 32,
     "metadata": {},
     "output_type": "execute_result"
    }
   ],
   "source": [
    "# Read the folder content (sorted, only PDF)\n",
    "filenames = [f for f in sorted(listdir(folder)) if re.match('.+\\.pdf', f)]\n",
    "print('Files found:', len(filenames))\n",
    "\n",
    "# To data frame\n",
    "df_found_files = pd.DataFrame({'filename': filenames})\n",
    "\n",
    "# Attach the filename without extension\n",
    "df_found_files['filename_no_extension'] = df_found_files['filename'].apply(lambda f: re.match('(.+)\\.pdf', f).group(1))\n",
    "\n",
    "# Each jaarverslag gets its own output folder\n",
    "output_folder = '../output'\n",
    "df_found_files['output_folder'] = df_found_files['filename_no_extension'].apply(lambda f: join(output_folder, f))\n",
    "\n",
    "# Also create each output folder if it doesn't exist yet\n",
    "df_found_files['output_folder'].apply(lambda output_folder: makedirs(output_folder, exist_ok=True))\n",
    "\n",
    "# Show it\n",
    "df_found_files"
   ]
  },
  {
   "cell_type": "code",
   "execution_count": 33,
   "metadata": {},
   "outputs": [
    {
     "name": "stdout",
     "output_type": "stream",
     "text": [
      "Entries already found in file list: 8\n"
     ]
    }
   ],
   "source": [
    "# Read the already in place file list (if it exists)\n",
    "if isfile(join(folder, file_list_name)):\n",
    "    df_file_list = pd.read_csv(join(folder, file_list_name))\n",
    "    print('Entries already found in file list:', len(df_file_list))\n",
    "else:\n",
    "    # Create a new one\n",
    "    df_file_list = pd.DataFrame(columns=['filename', 'language'])"
   ]
  },
  {
   "cell_type": "code",
   "execution_count": 34,
   "metadata": {
    "scrolled": true
   },
   "outputs": [
    {
     "data": {
      "text/html": [
       "<div>\n",
       "<style scoped>\n",
       "    .dataframe tbody tr th:only-of-type {\n",
       "        vertical-align: middle;\n",
       "    }\n",
       "\n",
       "    .dataframe tbody tr th {\n",
       "        vertical-align: top;\n",
       "    }\n",
       "\n",
       "    .dataframe thead th {\n",
       "        text-align: right;\n",
       "    }\n",
       "</style>\n",
       "<table border=\"1\" class=\"dataframe\">\n",
       "  <thead>\n",
       "    <tr style=\"text-align: right;\">\n",
       "      <th></th>\n",
       "      <th>filename</th>\n",
       "      <th>filename_no_extension</th>\n",
       "      <th>output_folder</th>\n",
       "      <th>language</th>\n",
       "    </tr>\n",
       "  </thead>\n",
       "  <tbody>\n",
       "    <tr>\n",
       "      <th>0</th>\n",
       "      <td>ABNAMRO_2017.pdf</td>\n",
       "      <td>ABNAMRO_2017</td>\n",
       "      <td>../output/ABNAMRO_2017</td>\n",
       "      <td>english</td>\n",
       "    </tr>\n",
       "    <tr>\n",
       "      <th>1</th>\n",
       "      <td>AEGON_2017.pdf</td>\n",
       "      <td>AEGON_2017</td>\n",
       "      <td>../output/AEGON_2017</td>\n",
       "      <td>english</td>\n",
       "    </tr>\n",
       "    <tr>\n",
       "      <th>2</th>\n",
       "      <td>Akzonobel_2017.pdf</td>\n",
       "      <td>Akzonobel_2017</td>\n",
       "      <td>../output/Akzonobel_2017</td>\n",
       "      <td>english</td>\n",
       "    </tr>\n",
       "    <tr>\n",
       "      <th>3</th>\n",
       "      <td>Heineken_2017.pdf</td>\n",
       "      <td>Heineken_2017</td>\n",
       "      <td>../output/Heineken_2017</td>\n",
       "      <td>english</td>\n",
       "    </tr>\n",
       "    <tr>\n",
       "      <th>4</th>\n",
       "      <td>ING_Groep_2017.pdf</td>\n",
       "      <td>ING_Groep_2017</td>\n",
       "      <td>../output/ING_Groep_2017</td>\n",
       "      <td>english</td>\n",
       "    </tr>\n",
       "    <tr>\n",
       "      <th>5</th>\n",
       "      <td>KPN_2017.pdf</td>\n",
       "      <td>KPN_2017</td>\n",
       "      <td>../output/KPN_2017</td>\n",
       "      <td>english</td>\n",
       "    </tr>\n",
       "    <tr>\n",
       "      <th>6</th>\n",
       "      <td>Philips_2017.pdf</td>\n",
       "      <td>Philips_2017</td>\n",
       "      <td>../output/Philips_2017</td>\n",
       "      <td>english</td>\n",
       "    </tr>\n",
       "    <tr>\n",
       "      <th>7</th>\n",
       "      <td>Unilever_2017.pdf</td>\n",
       "      <td>Unilever_2017</td>\n",
       "      <td>../output/Unilever_2017</td>\n",
       "      <td>english</td>\n",
       "    </tr>\n",
       "  </tbody>\n",
       "</table>\n",
       "</div>"
      ],
      "text/plain": [
       "             filename filename_no_extension             output_folder language\n",
       "0    ABNAMRO_2017.pdf          ABNAMRO_2017    ../output/ABNAMRO_2017  english\n",
       "1      AEGON_2017.pdf            AEGON_2017      ../output/AEGON_2017  english\n",
       "2  Akzonobel_2017.pdf        Akzonobel_2017  ../output/Akzonobel_2017  english\n",
       "3   Heineken_2017.pdf         Heineken_2017   ../output/Heineken_2017  english\n",
       "4  ING_Groep_2017.pdf        ING_Groep_2017  ../output/ING_Groep_2017  english\n",
       "5        KPN_2017.pdf              KPN_2017        ../output/KPN_2017  english\n",
       "6    Philips_2017.pdf          Philips_2017    ../output/Philips_2017  english\n",
       "7   Unilever_2017.pdf         Unilever_2017   ../output/Unilever_2017  english"
      ]
     },
     "execution_count": 34,
     "metadata": {},
     "output_type": "execute_result"
    }
   ],
   "source": [
    "# Join the already known languages\n",
    "df = df_found_files.merge(df_file_list[['filename', 'language']], how='left', on='filename')\n",
    "df"
   ]
  },
  {
   "cell_type": "code",
   "execution_count": 35,
   "metadata": {},
   "outputs": [],
   "source": [
    "# Save to CSV\n",
    "df.to_csv(join(folder, file_list_name), index=False)"
   ]
  },
  {
   "cell_type": "code",
   "execution_count": null,
   "metadata": {},
   "outputs": [],
   "source": []
  }
 ],
 "metadata": {
  "kernelspec": {
   "display_name": "Python 3",
   "language": "python",
   "name": "python3"
  },
  "language_info": {
   "codemirror_mode": {
    "name": "ipython",
    "version": 3
   },
   "file_extension": ".py",
   "mimetype": "text/x-python",
   "name": "python",
   "nbconvert_exporter": "python",
   "pygments_lexer": "ipython3",
   "version": "3.7.1"
  }
 },
 "nbformat": 4,
 "nbformat_minor": 2
}
