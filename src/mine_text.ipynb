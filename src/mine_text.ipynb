{
 "cells": [
  {
   "cell_type": "markdown",
   "metadata": {
    "papermill": {
     "duration": 0.070229,
     "end_time": "2019-02-08T10:24:44.789739",
     "exception": false,
     "start_time": "2019-02-08T10:24:44.719510",
     "status": "completed"
    },
    "tags": []
   },
   "source": [
    "# Text mining plain text to word counts\n",
    "Part of project \"Text mining jaarverslagen\".\n",
    "\n",
    "It reads from a plain text file, does some processing and counts the words.\n",
    "\n",
    "Use the kernel `tmj` which I've made in the virtual environment `~\\venv\\tmj`. This environment holds all the needed packages and so I can manage them without interfering with the system Python installation or other Python projects."
   ]
  },
  {
   "cell_type": "code",
   "execution_count": 1,
   "metadata": {
    "papermill": {
     "duration": 0.895491,
     "end_time": "2019-02-08T10:24:45.745621",
     "exception": false,
     "start_time": "2019-02-08T10:24:44.850130",
     "status": "completed"
    },
    "tags": []
   },
   "outputs": [],
   "source": [
    "# Generic imports\n",
    "from os.path import join\n",
    "import pandas as pd\n",
    "import re"
   ]
  },
  {
   "cell_type": "code",
   "execution_count": 2,
   "metadata": {
    "papermill": {
     "duration": 0.082002,
     "end_time": "2019-02-08T10:24:45.878662",
     "exception": false,
     "start_time": "2019-02-08T10:24:45.796660",
     "status": "completed"
    },
    "tags": [
     "parameters"
    ]
   },
   "outputs": [],
   "source": [
    "# Parameters\n",
    "filename = 'AEGON_2017.txt'\n",
    "folder = '../output/AEGON_2017'\n",
    "language = 'english'\n",
    "output_folder = folder\n",
    "filename_no_extension = re.match('(.+)\\.txt', filename).group(1)"
   ]
  },
  {
   "cell_type": "code",
   "execution_count": 3,
   "metadata": {
    "papermill": {
     "duration": 0.087007,
     "end_time": "2019-02-08T10:24:46.035023",
     "exception": false,
     "start_time": "2019-02-08T10:24:45.948016",
     "status": "completed"
    },
    "tags": [
     "injected-parameters"
    ]
   },
   "outputs": [],
   "source": [
    "# Parameters\n",
    "filename = \"Unilever_2017.txt\"\n",
    "folder = \"../output/Unilever_2017\"\n",
    "language = \"english\"\n",
    "filename_no_extension = \"Unilever_2017\"\n",
    "output_folder = \"../output/Unilever_2017\"\n"
   ]
  },
  {
   "cell_type": "code",
   "execution_count": 4,
   "metadata": {
    "papermill": {
     "duration": 0.089647,
     "end_time": "2019-02-08T10:24:46.179395",
     "exception": false,
     "start_time": "2019-02-08T10:24:46.089748",
     "status": "completed"
    },
    "scrolled": true,
    "tags": []
   },
   "outputs": [
    {
     "name": "stdout",
     "output_type": "stream",
     "text": [
      "DISCLAIMER\n",
      "This is a PDF version of the Unilever Annual Report and Accounts 2017 and\n",
      "is an exact cop\n"
     ]
    }
   ],
   "source": [
    "# Read from file\n",
    "with open(join(folder, filename), 'r') as f:\n",
    "    text = f.read()\n",
    "print(text[:100])"
   ]
  },
  {
   "cell_type": "markdown",
   "metadata": {
    "papermill": {
     "duration": 0.056915,
     "end_time": "2019-02-08T10:24:46.311998",
     "exception": false,
     "start_time": "2019-02-08T10:24:46.255083",
     "status": "completed"
    },
    "tags": []
   },
   "source": [
    "Maybe decompose to get rid of the accents? Nah"
   ]
  },
  {
   "cell_type": "code",
   "execution_count": 5,
   "metadata": {
    "papermill": {
     "duration": 6.959473,
     "end_time": "2019-02-08T10:24:53.328021",
     "exception": false,
     "start_time": "2019-02-08T10:24:46.368548",
     "status": "completed"
    },
    "tags": []
   },
   "outputs": [
    {
     "name": "stdout",
     "output_type": "stream",
     "text": [
      "['DISCLAIMER', 'This', 'is', 'a', 'PDF', 'version', 'of', 'the', 'Unilever', 'Annual', 'Report', 'and', 'Accounts', '2017', 'and', 'is', 'an', 'exact', 'copy', 'of', 'the', 'printed', 'document', 'provided', 'to', 'Unilever', '’', 's', 'shareholders', '.', 'Certain', 'sections', 'of', 'the', 'Unilever', 'Annual', 'Report', 'and', 'Accounts', '2017', 'have', 'been', 'audited', '.', 'These', 'are', 'on', 'pages', '86', 'to', '155', ',', 'and', 'those', 'parts', 'noted', 'as', 'audited', 'within', 'the', 'Directors', '’', 'Remuneration', 'Report', 'on', 'pages', '47', 'to', '76', '.', 'The', 'maintenance', 'and', 'integrity', 'of', 'the', 'Unilever', 'website', 'is', 'the', 'responsibility', 'of', 'the', 'Directors', ';', 'the', 'work', 'carried', 'out', 'by', 'the', 'auditors', 'does', 'not', 'involve', 'consideration', 'of', 'these', 'matters', '.']\n"
     ]
    }
   ],
   "source": [
    "# Tokenize with the Natural Language Toolkit (nltk)\n",
    "from nltk import word_tokenize\n",
    "words = word_tokenize(text)\n",
    "print(words[:100])"
   ]
  },
  {
   "cell_type": "markdown",
   "metadata": {
    "papermill": {
     "duration": 0.049431,
     "end_time": "2019-02-08T10:24:53.431425",
     "exception": false,
     "start_time": "2019-02-08T10:24:53.381994",
     "status": "completed"
    },
    "tags": []
   },
   "source": [
    "This list of words (preserving its order) is passed through the following processing steps.\n",
    "\n",
    "After each step, where the list is altered in some way, the words can be counted and saved.\n",
    "\n",
    "Note: this doesn't allow for N-grams. For that I'd definitely need custom count and save code per process step."
   ]
  },
  {
   "cell_type": "code",
   "execution_count": 6,
   "metadata": {
    "papermill": {
     "duration": 0.115699,
     "end_time": "2019-02-08T10:24:53.617726",
     "exception": false,
     "start_time": "2019-02-08T10:24:53.502027",
     "status": "completed"
    },
    "scrolled": true,
    "tags": []
   },
   "outputs": [],
   "source": [
    "# You could run this after each text mining step to save output\n",
    "from generate_word_cloud import generate_word_cloud\n",
    "def count_and_save(words, suffix):\n",
    "    # Set up a data frame with the counts\n",
    "    df = (pd.Series(words).value_counts()\n",
    "     .reset_index()\n",
    "     .rename(columns={'index': 'word', 0:'count'})\n",
    "    )\n",
    "\n",
    "    # Calculate term frequency\n",
    "    df['tf'] = df['count'] / df['count'].sum()\n",
    "\n",
    "    # Show the 5 most common words\n",
    "    display(df.head())\n",
    "\n",
    "    # Save to a CSV\n",
    "    save_to = join(output_folder, filename_no_extension + suffix)\n",
    "    df.to_csv(save_to + '.csv', index=False)\n",
    "    print('Saved to:', save_to + '.csv')\n",
    "\n",
    "    # Create, show and save a word cloud. The function needs a pandas Series\n",
    "    wordcloud = generate_word_cloud(df.set_index('word')['count'])\n",
    "    wordcloud.to_file(save_to + '.png')\n",
    "    print('Saved to:', save_to + '.png')"
   ]
  },
  {
   "cell_type": "markdown",
   "metadata": {
    "papermill": {
     "duration": 0.062146,
     "end_time": "2019-02-08T10:24:53.755833",
     "exception": false,
     "start_time": "2019-02-08T10:24:53.693687",
     "status": "completed"
    },
    "tags": []
   },
   "source": [
    "More about the word cloud here: http://amueller.github.io/word_cloud/generated/wordcloud.WordCloud.html"
   ]
  },
  {
   "cell_type": "markdown",
   "metadata": {
    "papermill": {
     "duration": 0.061904,
     "end_time": "2019-02-08T10:24:53.889413",
     "exception": false,
     "start_time": "2019-02-08T10:24:53.827509",
     "status": "completed"
    },
    "tags": []
   },
   "source": [
    "## Bag of words\n",
    "It's the easiest way to text mining.\n",
    "\n",
    "Just count them."
   ]
  },
  {
   "cell_type": "code",
   "execution_count": 7,
   "metadata": {
    "papermill": {
     "duration": 1.578638,
     "end_time": "2019-02-08T10:24:55.521717",
     "exception": false,
     "start_time": "2019-02-08T10:24:53.943079",
     "status": "completed"
    },
    "tags": []
   },
   "outputs": [
    {
     "data": {
      "text/html": [
       "<div>\n",
       "<style scoped>\n",
       "    .dataframe tbody tr th:only-of-type {\n",
       "        vertical-align: middle;\n",
       "    }\n",
       "\n",
       "    .dataframe tbody tr th {\n",
       "        vertical-align: top;\n",
       "    }\n",
       "\n",
       "    .dataframe thead th {\n",
       "        text-align: right;\n",
       "    }\n",
       "</style>\n",
       "<table border=\"1\" class=\"dataframe\">\n",
       "  <thead>\n",
       "    <tr style=\"text-align: right;\">\n",
       "      <th></th>\n",
       "      <th>word</th>\n",
       "      <th>count</th>\n",
       "      <th>tf</th>\n",
       "    </tr>\n",
       "  </thead>\n",
       "  <tbody>\n",
       "    <tr>\n",
       "      <th>0</th>\n",
       "      <td>the</td>\n",
       "      <td>5804</td>\n",
       "      <td>0.036339</td>\n",
       "    </tr>\n",
       "    <tr>\n",
       "      <th>1</th>\n",
       "      <td>,</td>\n",
       "      <td>4666</td>\n",
       "      <td>0.029214</td>\n",
       "    </tr>\n",
       "    <tr>\n",
       "      <th>2</th>\n",
       "      <td>.</td>\n",
       "      <td>4312</td>\n",
       "      <td>0.026998</td>\n",
       "    </tr>\n",
       "    <tr>\n",
       "      <th>3</th>\n",
       "      <td>of</td>\n",
       "      <td>4295</td>\n",
       "      <td>0.026891</td>\n",
       "    </tr>\n",
       "    <tr>\n",
       "      <th>4</th>\n",
       "      <td>and</td>\n",
       "      <td>4279</td>\n",
       "      <td>0.026791</td>\n",
       "    </tr>\n",
       "  </tbody>\n",
       "</table>\n",
       "</div>"
      ],
      "text/plain": [
       "  word  count        tf\n",
       "0  the   5804  0.036339\n",
       "1    ,   4666  0.029214\n",
       "2    .   4312  0.026998\n",
       "3   of   4295  0.026891\n",
       "4  and   4279  0.026791"
      ]
     },
     "metadata": {},
     "output_type": "display_data"
    },
    {
     "name": "stdout",
     "output_type": "stream",
     "text": [
      "Saved to: ../output/Unilever_2017/Unilever_2017_bag_of_words.csv\n"
     ]
    },
    {
     "data": {
      "text/plain": [
       "<Figure size 640x480 with 1 Axes>"
      ]
     },
     "metadata": {},
     "output_type": "display_data"
    },
    {
     "name": "stdout",
     "output_type": "stream",
     "text": [
      "Saved to: ../output/Unilever_2017/Unilever_2017_bag_of_words.png\n"
     ]
    }
   ],
   "source": [
    "# Set up a data frame with the counts\n",
    "count_and_save(words, '_bag_of_words')"
   ]
  },
  {
   "cell_type": "markdown",
   "metadata": {
    "papermill": {
     "duration": 0.062834,
     "end_time": "2019-02-08T10:24:55.646144",
     "exception": false,
     "start_time": "2019-02-08T10:24:55.583310",
     "status": "completed"
    },
    "tags": []
   },
   "source": [
    "## Do some basic processing\n",
    "* Ignore punctuation\n",
    "* Ignore case\n",
    "* Remove stopwords"
   ]
  },
  {
   "cell_type": "code",
   "execution_count": 8,
   "metadata": {
    "papermill": {
     "duration": 62.645986,
     "end_time": "2019-02-08T10:25:58.371499",
     "exception": false,
     "start_time": "2019-02-08T10:24:55.725513",
     "status": "completed"
    },
    "tags": []
   },
   "outputs": [],
   "source": [
    "# Convert all to lowercase\n",
    "words = [w.lower() for w in words]\n",
    "\n",
    "# Stick to letters only\n",
    "words = [re.sub('[^A-Za-z]', '', w) for w in words]\n",
    "words = list(filter(None, words))\n",
    "\n",
    "# Remove stopwords\n",
    "from nltk.corpus import stopwords\n",
    "words = [w for w in words if w not in stopwords.words(language)]"
   ]
  },
  {
   "cell_type": "code",
   "execution_count": 9,
   "metadata": {
    "papermill": {
     "duration": 1.056486,
     "end_time": "2019-02-08T10:25:59.485763",
     "exception": false,
     "start_time": "2019-02-08T10:25:58.429277",
     "status": "completed"
    },
    "tags": []
   },
   "outputs": [
    {
     "data": {
      "text/html": [
       "<div>\n",
       "<style scoped>\n",
       "    .dataframe tbody tr th:only-of-type {\n",
       "        vertical-align: middle;\n",
       "    }\n",
       "\n",
       "    .dataframe tbody tr th {\n",
       "        vertical-align: top;\n",
       "    }\n",
       "\n",
       "    .dataframe thead th {\n",
       "        text-align: right;\n",
       "    }\n",
       "</style>\n",
       "<table border=\"1\" class=\"dataframe\">\n",
       "  <thead>\n",
       "    <tr style=\"text-align: right;\">\n",
       "      <th></th>\n",
       "      <th>word</th>\n",
       "      <th>count</th>\n",
       "      <th>tf</th>\n",
       "    </tr>\n",
       "  </thead>\n",
       "  <tbody>\n",
       "    <tr>\n",
       "      <th>0</th>\n",
       "      <td>unilever</td>\n",
       "      <td>1498</td>\n",
       "      <td>0.019680</td>\n",
       "    </tr>\n",
       "    <tr>\n",
       "      <th>1</th>\n",
       "      <td>million</td>\n",
       "      <td>884</td>\n",
       "      <td>0.011614</td>\n",
       "    </tr>\n",
       "    <tr>\n",
       "      <th>2</th>\n",
       "      <td>financial</td>\n",
       "      <td>618</td>\n",
       "      <td>0.008119</td>\n",
       "    </tr>\n",
       "    <tr>\n",
       "      <th>3</th>\n",
       "      <td>group</td>\n",
       "      <td>602</td>\n",
       "      <td>0.007909</td>\n",
       "    </tr>\n",
       "    <tr>\n",
       "      <th>4</th>\n",
       "      <td>shares</td>\n",
       "      <td>602</td>\n",
       "      <td>0.007909</td>\n",
       "    </tr>\n",
       "  </tbody>\n",
       "</table>\n",
       "</div>"
      ],
      "text/plain": [
       "        word  count        tf\n",
       "0   unilever   1498  0.019680\n",
       "1    million    884  0.011614\n",
       "2  financial    618  0.008119\n",
       "3      group    602  0.007909\n",
       "4     shares    602  0.007909"
      ]
     },
     "metadata": {},
     "output_type": "display_data"
    },
    {
     "name": "stdout",
     "output_type": "stream",
     "text": [
      "Saved to: ../output/Unilever_2017/Unilever_2017_basic_processing.csv\n"
     ]
    },
    {
     "data": {
      "image/png": "[encoded data removed]",
      "text/plain": [
       "<Figure size 432x288 with 1 Axes>"
      ]
     },
     "metadata": {
      "needs_background": "light"
     },
     "output_type": "display_data"
    },
    {
     "name": "stdout",
     "output_type": "stream",
     "text": [
      "Saved to: ../output/Unilever_2017/Unilever_2017_basic_processing.png\n"
     ]
    }
   ],
   "source": [
    "# Let's go!\n",
    "count_and_save(words, '_basic_processing')"
   ]
  },
  {
   "cell_type": "markdown",
   "metadata": {
    "papermill": {
     "duration": 0.083907,
     "end_time": "2019-02-08T10:25:59.635413",
     "exception": false,
     "start_time": "2019-02-08T10:25:59.551506",
     "status": "completed"
    },
    "tags": []
   },
   "source": [
    "## Stemming or lemmatization\n",
    "TODO"
   ]
  },
  {
   "cell_type": "code",
   "execution_count": null,
   "metadata": {
    "papermill": {
     "duration": 0.066057,
     "end_time": "2019-02-08T10:25:59.792503",
     "exception": false,
     "start_time": "2019-02-08T10:25:59.726446",
     "status": "completed"
    },
    "tags": []
   },
   "outputs": [],
   "source": []
  }
 ],
 "metadata": {
  "kernelspec": {
   "display_name": "tmj",
   "language": "python",
   "name": "tmj"
  },
  "language_info": {
   "codemirror_mode": {
    "name": "ipython",
    "version": 3
   },
   "file_extension": ".py",
   "mimetype": "text/x-python",
   "name": "python",
   "nbconvert_exporter": "python",
   "pygments_lexer": "ipython3",
   "version": "3.7.2"
  },
  "papermill": {
   "duration": 77.698031,
   "end_time": "2019-02-08T10:26:00.438632",
   "environment_variables": {},
   "exception": null,
   "input_path": "mine_text.ipynb",
   "output_path": "mine_text.ipynb",
   "parameters": {
    "filename": "Unilever_2017.txt",
    "filename_no_extension": "Unilever_2017",
    "folder": "../output/Unilever_2017",
    "language": "english",
    "output_folder": "../output/Unilever_2017"
   },
   "start_time": "2019-02-08T10:24:42.740601",
   "version": "0.17.1"
  }
 },
 "nbformat": 4,
 "nbformat_minor": 2
}