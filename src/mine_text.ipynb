{
 "cells": [
  {
   "cell_type": "markdown",
   "metadata": {
    "papermill": {
     "duration": 0.065641,
     "end_time": "2019-02-05T18:37:06.932940",
     "exception": false,
     "start_time": "2019-02-05T18:37:06.867299",
     "status": "completed"
    },
    "tags": []
   },
   "source": [
    "# Text mining plain text to word counts\n",
    "Part of project \"Text mining jaarverslagen\".\n",
    "\n",
    "It reads from a plain text file, does some processing and counts the words.\n",
    "\n",
    "Use the kernel `tmj` which I've made in the virtual environment `~\\venv\\tmj`. This environment holds all the needed packages and so I can manage them without interfering with the system Python installation or other Python projects."
   ]
  },
  {
   "cell_type": "code",
   "execution_count": 1,
   "metadata": {
    "papermill": {
     "duration": 0.436627,
     "end_time": "2019-02-05T18:37:07.403033",
     "exception": false,
     "start_time": "2019-02-05T18:37:06.966406",
     "status": "completed"
    },
    "tags": []
   },
   "outputs": [],
   "source": [
    "# Generic imports\n",
    "from os.path import join\n",
    "import pandas as pd\n",
    "import re"
   ]
  },
  {
   "cell_type": "code",
   "execution_count": 2,
   "metadata": {
    "papermill": {
     "duration": 0.039335,
     "end_time": "2019-02-05T18:37:07.467790",
     "exception": false,
     "start_time": "2019-02-05T18:37:07.428455",
     "status": "completed"
    },
    "tags": [
     "parameters"
    ]
   },
   "outputs": [],
   "source": [
    "# Parameters\n",
    "filename = 'AEGON_2017.txt'\n",
    "folder = '../output/AEGON_2017'\n",
    "language = 'english'\n",
    "output_folder = folder\n",
    "filename_no_extension = re.match('(.+)\\.txt', filename).group(1)"
   ]
  },
  {
   "cell_type": "code",
   "execution_count": 3,
   "metadata": {
    "papermill": {
     "duration": 0.036245,
     "end_time": "2019-02-05T18:37:07.532995",
     "exception": false,
     "start_time": "2019-02-05T18:37:07.496750",
     "status": "completed"
    },
    "tags": [
     "injected-parameters"
    ]
   },
   "outputs": [],
   "source": [
    "# Parameters\n",
    "filename = \"Akzonobel_2017.txt\"\n",
    "folder = \"../output/Akzonobel_2017\"\n",
    "language = \"english\"\n",
    "filename_no_extension = \"Akzonobel_2017\"\n",
    "output_folder = \"../output/Akzonobel_2017\"\n"
   ]
  },
  {
   "cell_type": "code",
   "execution_count": 4,
   "metadata": {
    "papermill": {
     "duration": 0.042823,
     "end_time": "2019-02-05T18:37:07.602838",
     "exception": false,
     "start_time": "2019-02-05T18:37:07.560015",
     "status": "completed"
    },
    "scrolled": true,
    "tags": []
   },
   "outputs": [
    {
     "name": "stdout",
     "output_type": "stream",
     "text": [
      "Report\n",
      "\n",
      "17\n",
      "\n",
      "\f",
      "AkzoNobel in 2017 at a glance\n",
      "Creating two focused,\n",
      "high performing\n",
      "businesses:\n",
      "• Separ\n"
     ]
    }
   ],
   "source": [
    "# Read from file\n",
    "with open(join(folder, filename), 'r') as f:\n",
    "    text = f.read()\n",
    "print(text[:100])"
   ]
  },
  {
   "cell_type": "markdown",
   "metadata": {
    "papermill": {
     "duration": 0.024389,
     "end_time": "2019-02-05T18:37:07.651598",
     "exception": false,
     "start_time": "2019-02-05T18:37:07.627209",
     "status": "completed"
    },
    "tags": []
   },
   "source": [
    "Maybe decompose to get rid of the accents? Nah"
   ]
  },
  {
   "cell_type": "code",
   "execution_count": 5,
   "metadata": {
    "papermill": {
     "duration": 2.467774,
     "end_time": "2019-02-05T18:37:10.152202",
     "exception": false,
     "start_time": "2019-02-05T18:37:07.684428",
     "status": "completed"
    },
    "tags": []
   },
   "outputs": [
    {
     "name": "stdout",
     "output_type": "stream",
     "text": [
      "['Report', '17', 'AkzoNobel', 'in', '2017', 'at', 'a', 'glance', 'Creating', 'two', 'focused', ',', 'high', 'performing', 'businesses', ':', '•', 'Separation', 'of', 'Specialty', 'Chemicals', 'on', '792', 'track', 'for', 'April', '2018', ';', 'Specialty', 'Chemicals', 'business', 'now', 'reported', 'as', 'discontinued', 'operations', '•', 'Revenue', ',', 'including', 'discontinued', 'operations', ',', 'up', '3', '%', '(', 'up', '4', '%', 'excluding', '345', 'currency', 'impact', ')', 'at', '€14,575', 'million', '•', 'EBIT', ',', 'including', 'discontinued', 'operations', ',', 'up', '2', '%', 'to', 'a', 'record', '€1,525', 'million', '•', 'Operating', 'income', ',', 'including', 'discontinued', 'operations', ',', 'at', '€1,396', 'million', 'includes', 'identified', 'items', 'of', '€129', 'million', ',', 'mainly', 'related', 'to', 'the', 'transformation', 'of', 'AkzoNobel', ',', 'including']\n"
     ]
    }
   ],
   "source": [
    "# Tokenize with the Natural Language Toolkit (nltk)\n",
    "from nltk import word_tokenize\n",
    "words = word_tokenize(text)\n",
    "print(words[:100])"
   ]
  },
  {
   "cell_type": "markdown",
   "metadata": {
    "papermill": {
     "duration": 0.034221,
     "end_time": "2019-02-05T18:37:10.216077",
     "exception": false,
     "start_time": "2019-02-05T18:37:10.181856",
     "status": "completed"
    },
    "tags": []
   },
   "source": [
    "This list of words (preserving its order) is passed through the following processing steps.\n",
    "\n",
    "After each step, where the list is altered in some way, the words can be counted and saved.\n",
    "\n",
    "Note: this doesn't allow for N-grams. For that I'd definitely need custom count and save code per process step."
   ]
  },
  {
   "cell_type": "code",
   "execution_count": 6,
   "metadata": {
    "papermill": {
     "duration": 0.055859,
     "end_time": "2019-02-05T18:37:10.302676",
     "exception": false,
     "start_time": "2019-02-05T18:37:10.246817",
     "status": "completed"
    },
    "scrolled": true,
    "tags": []
   },
   "outputs": [],
   "source": [
    "# You could run this after each text mining step to save output\n",
    "from generate_word_cloud import generate_word_cloud\n",
    "def count_and_save(words, suffix):\n",
    "    # Set up a data frame with the counts\n",
    "    df = (pd.Series(words).value_counts()\n",
    "     .reset_index()\n",
    "     .rename(columns={'index': 'word', 0:'count'})\n",
    "    )\n",
    "\n",
    "    # Calculate term frequency\n",
    "    df['tf'] = df['count'] / df['count'].sum()\n",
    "\n",
    "    # Show the 5 most common words\n",
    "    display(df.head())\n",
    "\n",
    "    # Save to a CSV\n",
    "    save_to = join(output_folder, filename_no_extension + suffix)\n",
    "    df.to_csv(save_to + '.csv', index=False)\n",
    "    print('Saved to:', save_to + '.csv')\n",
    "\n",
    "    # Create, show and save a word cloud. The function needs a pandas Series\n",
    "    wordcloud = generate_word_cloud(df.set_index('word')['count'])\n",
    "    wordcloud.to_file(save_to + '.png')\n",
    "    print('Saved to:', save_to + '.png')"
   ]
  },
  {
   "cell_type": "markdown",
   "metadata": {
    "papermill": {
     "duration": 0.02982,
     "end_time": "2019-02-05T18:37:10.362046",
     "exception": false,
     "start_time": "2019-02-05T18:37:10.332226",
     "status": "completed"
    },
    "tags": []
   },
   "source": [
    "More about the word cloud here: http://amueller.github.io/word_cloud/generated/wordcloud.WordCloud.html"
   ]
  },
  {
   "cell_type": "markdown",
   "metadata": {
    "papermill": {
     "duration": 0.025812,
     "end_time": "2019-02-05T18:37:10.416472",
     "exception": false,
     "start_time": "2019-02-05T18:37:10.390660",
     "status": "completed"
    },
    "tags": []
   },
   "source": [
    "## Bag of words\n",
    "It's the easiest way to text mining.\n",
    "\n",
    "Just count them."
   ]
  },
  {
   "cell_type": "code",
   "execution_count": 7,
   "metadata": {
    "papermill": {
     "duration": 0.779694,
     "end_time": "2019-02-05T18:37:11.224129",
     "exception": false,
     "start_time": "2019-02-05T18:37:10.444435",
     "status": "completed"
    },
    "tags": []
   },
   "outputs": [
    {
     "data": {
      "text/html": [
       "<div>\n",
       "<style scoped>\n",
       "    .dataframe tbody tr th:only-of-type {\n",
       "        vertical-align: middle;\n",
       "    }\n",
       "\n",
       "    .dataframe tbody tr th {\n",
       "        vertical-align: top;\n",
       "    }\n",
       "\n",
       "    .dataframe thead th {\n",
       "        text-align: right;\n",
       "    }\n",
       "</style>\n",
       "<table border=\"1\" class=\"dataframe\">\n",
       "  <thead>\n",
       "    <tr style=\"text-align: right;\">\n",
       "      <th></th>\n",
       "      <th>word</th>\n",
       "      <th>count</th>\n",
       "      <th>tf</th>\n",
       "    </tr>\n",
       "  </thead>\n",
       "  <tbody>\n",
       "    <tr>\n",
       "      <th>0</th>\n",
       "      <td>the</td>\n",
       "      <td>4717</td>\n",
       "      <td>0.042985</td>\n",
       "    </tr>\n",
       "    <tr>\n",
       "      <th>1</th>\n",
       "      <td>,</td>\n",
       "      <td>3624</td>\n",
       "      <td>0.033025</td>\n",
       "    </tr>\n",
       "    <tr>\n",
       "      <th>2</th>\n",
       "      <td>of</td>\n",
       "      <td>3524</td>\n",
       "      <td>0.032114</td>\n",
       "    </tr>\n",
       "    <tr>\n",
       "      <th>3</th>\n",
       "      <td>and</td>\n",
       "      <td>3440</td>\n",
       "      <td>0.031348</td>\n",
       "    </tr>\n",
       "    <tr>\n",
       "      <th>4</th>\n",
       "      <td>.</td>\n",
       "      <td>3046</td>\n",
       "      <td>0.027758</td>\n",
       "    </tr>\n",
       "  </tbody>\n",
       "</table>\n",
       "</div>"
      ],
      "text/plain": [
       "  word  count        tf\n",
       "0  the   4717  0.042985\n",
       "1    ,   3624  0.033025\n",
       "2   of   3524  0.032114\n",
       "3  and   3440  0.031348\n",
       "4    .   3046  0.027758"
      ]
     },
     "metadata": {},
     "output_type": "display_data"
    },
    {
     "name": "stdout",
     "output_type": "stream",
     "text": [
      "Saved to: ../output/Akzonobel_2017/Akzonobel_2017_bag_of_words.csv\n"
     ]
    },
    {
     "data": {
      "text/plain": [
       "<Figure size 640x480 with 1 Axes>"
      ]
     },
     "metadata": {},
     "output_type": "display_data"
    },
    {
     "name": "stdout",
     "output_type": "stream",
     "text": [
      "Saved to: ../output/Akzonobel_2017/Akzonobel_2017_bag_of_words.png\n"
     ]
    }
   ],
   "source": [
    "# Set up a data frame with the counts\n",
    "count_and_save(words, '_bag_of_words')"
   ]
  },
  {
   "cell_type": "markdown",
   "metadata": {
    "papermill": {
     "duration": 0.029164,
     "end_time": "2019-02-05T18:37:11.282767",
     "exception": false,
     "start_time": "2019-02-05T18:37:11.253603",
     "status": "completed"
    },
    "tags": []
   },
   "source": [
    "## Do some basic processing\n",
    "* Ignore punctuation\n",
    "* Ignore case\n",
    "* Remove stopwords"
   ]
  },
  {
   "cell_type": "code",
   "execution_count": 8,
   "metadata": {
    "papermill": {
     "duration": 22.946727,
     "end_time": "2019-02-05T18:37:34.263469",
     "exception": false,
     "start_time": "2019-02-05T18:37:11.316742",
     "status": "completed"
    },
    "tags": []
   },
   "outputs": [],
   "source": [
    "# Convert all to lowercase\n",
    "words = [w.lower() for w in words]\n",
    "\n",
    "# Stick to letters only\n",
    "words = [re.sub('[^A-Za-z]', '', w) for w in words]\n",
    "words = list(filter(None, words))\n",
    "\n",
    "# Remove stopwords\n",
    "from nltk.corpus import stopwords\n",
    "words = [w for w in words if w not in stopwords.words(language)]"
   ]
  },
  {
   "cell_type": "code",
   "execution_count": 9,
   "metadata": {
    "papermill": {
     "duration": 0.573588,
     "end_time": "2019-02-05T18:37:34.868288",
     "exception": false,
     "start_time": "2019-02-05T18:37:34.294700",
     "status": "completed"
    },
    "tags": []
   },
   "outputs": [
    {
     "data": {
      "text/html": [
       "<div>\n",
       "<style scoped>\n",
       "    .dataframe tbody tr th:only-of-type {\n",
       "        vertical-align: middle;\n",
       "    }\n",
       "\n",
       "    .dataframe tbody tr th {\n",
       "        vertical-align: top;\n",
       "    }\n",
       "\n",
       "    .dataframe thead th {\n",
       "        text-align: right;\n",
       "    }\n",
       "</style>\n",
       "<table border=\"1\" class=\"dataframe\">\n",
       "  <thead>\n",
       "    <tr style=\"text-align: right;\">\n",
       "      <th></th>\n",
       "      <th>word</th>\n",
       "      <th>count</th>\n",
       "      <th>tf</th>\n",
       "    </tr>\n",
       "  </thead>\n",
       "  <tbody>\n",
       "    <tr>\n",
       "      <th>0</th>\n",
       "      <td>board</td>\n",
       "      <td>639</td>\n",
       "      <td>0.011684</td>\n",
       "    </tr>\n",
       "    <tr>\n",
       "      <th>1</th>\n",
       "      <td>financial</td>\n",
       "      <td>531</td>\n",
       "      <td>0.009709</td>\n",
       "    </tr>\n",
       "    <tr>\n",
       "      <th>2</th>\n",
       "      <td>performance</td>\n",
       "      <td>530</td>\n",
       "      <td>0.009691</td>\n",
       "    </tr>\n",
       "    <tr>\n",
       "      <th>3</th>\n",
       "      <td>management</td>\n",
       "      <td>492</td>\n",
       "      <td>0.008996</td>\n",
       "    </tr>\n",
       "    <tr>\n",
       "      <th>4</th>\n",
       "      <td>akzonobel</td>\n",
       "      <td>485</td>\n",
       "      <td>0.008868</td>\n",
       "    </tr>\n",
       "  </tbody>\n",
       "</table>\n",
       "</div>"
      ],
      "text/plain": [
       "          word  count        tf\n",
       "0        board    639  0.011684\n",
       "1    financial    531  0.009709\n",
       "2  performance    530  0.009691\n",
       "3   management    492  0.008996\n",
       "4    akzonobel    485  0.008868"
      ]
     },
     "metadata": {},
     "output_type": "display_data"
    },
    {
     "name": "stdout",
     "output_type": "stream",
     "text": [
      "Saved to: ../output/Akzonobel_2017/Akzonobel_2017_basic_processing.csv\n"
     ]
    },
    {
     "data": {
      "image/png": "[encoded data removed]",
      "text/plain": [
       "<Figure size 432x288 with 1 Axes>"
      ]
     },
     "metadata": {
      "needs_background": "light"
     },
     "output_type": "display_data"
    },
    {
     "name": "stdout",
     "output_type": "stream",
     "text": [
      "Saved to: ../output/Akzonobel_2017/Akzonobel_2017_basic_processing.png\n"
     ]
    }
   ],
   "source": [
    "# Let's go!\n",
    "count_and_save(words, '_basic_processing')"
   ]
  },
  {
   "cell_type": "markdown",
   "metadata": {
    "papermill": {
     "duration": 0.032332,
     "end_time": "2019-02-05T18:37:34.936091",
     "exception": false,
     "start_time": "2019-02-05T18:37:34.903759",
     "status": "completed"
    },
    "tags": []
   },
   "source": [
    "## Stemming or lemmatization\n",
    "TODO"
   ]
  },
  {
   "cell_type": "code",
   "execution_count": null,
   "metadata": {
    "papermill": {
     "duration": 0.031363,
     "end_time": "2019-02-05T18:37:35.000097",
     "exception": false,
     "start_time": "2019-02-05T18:37:34.968734",
     "status": "completed"
    },
    "tags": []
   },
   "outputs": [],
   "source": []
  }
 ],
 "metadata": {
  "kernelspec": {
   "display_name": "tmj",
   "language": "python",
   "name": "tmj"
  },
  "language_info": {
   "codemirror_mode": {
    "name": "ipython",
    "version": 3
   },
   "file_extension": ".py",
   "mimetype": "text/x-python",
   "name": "python",
   "nbconvert_exporter": "python",
   "pygments_lexer": "ipython3",
   "version": "3.7.2"
  },
  "papermill": {
   "duration": 30.544202,
   "end_time": "2019-02-05T18:37:36.383290",
   "environment_variables": {},
   "exception": null,
   "input_path": "mine_text.ipynb",
   "output_path": "mine_text.ipynb",
   "parameters": {
    "filename": "Akzonobel_2017.txt",
    "filename_no_extension": "Akzonobel_2017",
    "folder": "../output/Akzonobel_2017",
    "language": "english",
    "output_folder": "../output/Akzonobel_2017"
   },
   "start_time": "2019-02-05T18:37:05.839088",
   "version": "0.17.1"
  }
 },
 "nbformat": 4,
 "nbformat_minor": 2
}