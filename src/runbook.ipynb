{
 "cells": [
  {
   "cell_type": "markdown",
   "metadata": {},
   "source": [
    "# Text mining jaarverslagen\n",
    "See the README."
   ]
  },
  {
   "cell_type": "markdown",
   "metadata": {},
   "source": [
    "## 1. Read from `file_list.csv`"
   ]
  },
  {
   "cell_type": "code",
   "execution_count": 1,
   "metadata": {},
   "outputs": [
    {
     "data": {
      "text/html": [
       "<div>\n",
       "<style scoped>\n",
       "    .dataframe tbody tr th:only-of-type {\n",
       "        vertical-align: middle;\n",
       "    }\n",
       "\n",
       "    .dataframe tbody tr th {\n",
       "        vertical-align: top;\n",
       "    }\n",
       "\n",
       "    .dataframe thead th {\n",
       "        text-align: right;\n",
       "    }\n",
       "</style>\n",
       "<table border=\"1\" class=\"dataframe\">\n",
       "  <thead>\n",
       "    <tr style=\"text-align: right;\">\n",
       "      <th></th>\n",
       "      <th>filename</th>\n",
       "      <th>filename_no_extension</th>\n",
       "      <th>output_folder</th>\n",
       "      <th>language</th>\n",
       "    </tr>\n",
       "  </thead>\n",
       "  <tbody>\n",
       "    <tr>\n",
       "      <th>0</th>\n",
       "      <td>ABNAMRO_2017.pdf</td>\n",
       "      <td>ABNAMRO_2017</td>\n",
       "      <td>../output/ABNAMRO_2017</td>\n",
       "      <td>english</td>\n",
       "    </tr>\n",
       "    <tr>\n",
       "      <th>1</th>\n",
       "      <td>AEGON_2017.pdf</td>\n",
       "      <td>AEGON_2017</td>\n",
       "      <td>../output/AEGON_2017</td>\n",
       "      <td>english</td>\n",
       "    </tr>\n",
       "    <tr>\n",
       "      <th>2</th>\n",
       "      <td>Akzonobel_2017.pdf</td>\n",
       "      <td>Akzonobel_2017</td>\n",
       "      <td>../output/Akzonobel_2017</td>\n",
       "      <td>english</td>\n",
       "    </tr>\n",
       "    <tr>\n",
       "      <th>3</th>\n",
       "      <td>Heineken_2017.pdf</td>\n",
       "      <td>Heineken_2017</td>\n",
       "      <td>../output/Heineken_2017</td>\n",
       "      <td>english</td>\n",
       "    </tr>\n",
       "    <tr>\n",
       "      <th>4</th>\n",
       "      <td>ING_Groep_2017.pdf</td>\n",
       "      <td>ING_Groep_2017</td>\n",
       "      <td>../output/ING_Groep_2017</td>\n",
       "      <td>english</td>\n",
       "    </tr>\n",
       "    <tr>\n",
       "      <th>5</th>\n",
       "      <td>KPN_2017.pdf</td>\n",
       "      <td>KPN_2017</td>\n",
       "      <td>../output/KPN_2017</td>\n",
       "      <td>english</td>\n",
       "    </tr>\n",
       "    <tr>\n",
       "      <th>6</th>\n",
       "      <td>Philips_2017.pdf</td>\n",
       "      <td>Philips_2017</td>\n",
       "      <td>../output/Philips_2017</td>\n",
       "      <td>english</td>\n",
       "    </tr>\n",
       "    <tr>\n",
       "      <th>7</th>\n",
       "      <td>Unilever_2017.pdf</td>\n",
       "      <td>Unilever_2017</td>\n",
       "      <td>../output/Unilever_2017</td>\n",
       "      <td>english</td>\n",
       "    </tr>\n",
       "  </tbody>\n",
       "</table>\n",
       "</div>"
      ],
      "text/plain": [
       "             filename filename_no_extension             output_folder language\n",
       "0    ABNAMRO_2017.pdf          ABNAMRO_2017    ../output/ABNAMRO_2017  english\n",
       "1      AEGON_2017.pdf            AEGON_2017      ../output/AEGON_2017  english\n",
       "2  Akzonobel_2017.pdf        Akzonobel_2017  ../output/Akzonobel_2017  english\n",
       "3   Heineken_2017.pdf         Heineken_2017   ../output/Heineken_2017  english\n",
       "4  ING_Groep_2017.pdf        ING_Groep_2017  ../output/ING_Groep_2017  english\n",
       "5        KPN_2017.pdf              KPN_2017        ../output/KPN_2017  english\n",
       "6    Philips_2017.pdf          Philips_2017    ../output/Philips_2017  english\n",
       "7   Unilever_2017.pdf         Unilever_2017   ../output/Unilever_2017  english"
      ]
     },
     "execution_count": 1,
     "metadata": {},
     "output_type": "execute_result"
    }
   ],
   "source": [
    "from os.path import join, isfile\n",
    "import pandas as pd\n",
    "\n",
    "input_folder = '../jaarverslagen'\n",
    "files = pd.read_csv(join(input_folder, 'file_list.csv'))\n",
    "files"
   ]
  },
  {
   "cell_type": "code",
   "execution_count": 2,
   "metadata": {},
   "outputs": [],
   "source": [
    "# Develop: to speed things up let's stick to 3 for now\n",
    "files = files.iloc[:3, :]"
   ]
  },
  {
   "cell_type": "markdown",
   "metadata": {},
   "source": [
    "## 2. Run through all jaarverslagen\n",
    "Using `papermill`, see https://papermill.readthedocs.io/en/latest/usage.html.\n",
    "\n",
    "How does this work with my virtual environment `tmj`?\n",
    "* Jupyter Notebook is served from `base` environment which has `widgetnbextension` enabled\n",
    "* Next `ipywidgets` is installed in this kernel's environment `tmj`\n",
    "* See https://ipywidgets.readthedocs.io/en/stable/user_install.html#installing-with-multiple-environments for more info about this"
   ]
  },
  {
   "cell_type": "code",
   "execution_count": 3,
   "metadata": {},
   "outputs": [],
   "source": [
    "import papermill as pm"
   ]
  },
  {
   "cell_type": "markdown",
   "metadata": {},
   "source": [
    "### 2.1 PDF to text\n",
    "First we'll convert all PDFs to plain text. This takes some time and only has to be done once if the script hasn't changed. So consider skipping this step if already done."
   ]
  },
  {
   "cell_type": "markdown",
   "metadata": {},
   "source": [
    "We'll execute the notebook `pdf_to_text.ipynb` and have the same output file as the input file. This means that the parameters will be inserted (`injected-paramaters` cell) into the original notebook."
   ]
  },
  {
   "cell_type": "code",
   "execution_count": 11,
   "metadata": {
    "scrolled": true
   },
   "outputs": [
    {
     "name": "stdout",
     "output_type": "stream",
     "text": [
      "Running: ABNAMRO_2017.pdf\n"
     ]
    },
    {
     "data": {
      "application/vnd.jupyter.widget-view+json": {
       "model_id": "a389afeef46d4cb5bd2fde50c093e035",
       "version_major": 2,
       "version_minor": 0
      },
      "text/plain": [
       "HBox(children=(IntProgress(value=0, max=7), HTML(value='')))"
      ]
     },
     "metadata": {},
     "output_type": "display_data"
    },
    {
     "name": "stdout",
     "output_type": "stream",
     "text": [
      "\n",
      "Running: AEGON_2017.pdf\n"
     ]
    },
    {
     "data": {
      "application/vnd.jupyter.widget-view+json": {
       "model_id": "f9f32eeec26746b3978976c678ad591b",
       "version_major": 2,
       "version_minor": 0
      },
      "text/plain": [
       "HBox(children=(IntProgress(value=0, max=7), HTML(value='')))"
      ]
     },
     "metadata": {},
     "output_type": "display_data"
    },
    {
     "name": "stdout",
     "output_type": "stream",
     "text": [
      "\n",
      "Running: Akzonobel_2017.pdf\n"
     ]
    },
    {
     "data": {
      "application/vnd.jupyter.widget-view+json": {
       "model_id": "0fc42e6e319248b1b4301743ae487f3d",
       "version_major": 2,
       "version_minor": 0
      },
      "text/plain": [
       "HBox(children=(IntProgress(value=0, max=7), HTML(value='')))"
      ]
     },
     "metadata": {},
     "output_type": "display_data"
    },
    {
     "name": "stdout",
     "output_type": "stream",
     "text": [
      "\n"
     ]
    }
   ],
   "source": [
    "# Iter over the rows as named tuples\n",
    "for row in files.itertuples():\n",
    "    \n",
    "    #\n",
    "    print('Running:', row.filename)\n",
    "    \n",
    "    # Security check\n",
    "    if not isfile(join(input_folder, row.filename)):\n",
    "        print('File not found:', row.filename)\n",
    "        continue\n",
    "    \n",
    "    # Execute the notebook\n",
    "    pm.execute_notebook(\n",
    "       'pdf_to_text.ipynb',\n",
    "       'pdf_to_text.ipynb',\n",
    "       parameters = dict(\n",
    "           filename = row.filename,\n",
    "           folder = input_folder,\n",
    "           filename_no_extension = row.filename_no_extension,\n",
    "           output_folder = row.output_folder\n",
    "       )\n",
    "    )"
   ]
  },
  {
   "cell_type": "markdown",
   "metadata": {},
   "source": [
    "### 2.2 Mine all the text\n",
    "Run the text mining script for all previously extracted plain text files.\n",
    "\n",
    "This will take a while. So if you already did this, and the script is not changed, consider skipping this part."
   ]
  },
  {
   "cell_type": "code",
   "execution_count": 12,
   "metadata": {
    "scrolled": true
   },
   "outputs": [
    {
     "name": "stdout",
     "output_type": "stream",
     "text": [
      "Running: ABNAMRO_2017\n"
     ]
    },
    {
     "data": {
      "application/vnd.jupyter.widget-view+json": {
       "model_id": "4ffb69210b214d8780c33f80e8202eb7",
       "version_major": 2,
       "version_minor": 0
      },
      "text/plain": [
       "HBox(children=(IntProgress(value=0, max=17), HTML(value='')))"
      ]
     },
     "metadata": {},
     "output_type": "display_data"
    },
    {
     "name": "stdout",
     "output_type": "stream",
     "text": [
      "\n",
      "Running: AEGON_2017\n"
     ]
    },
    {
     "data": {
      "application/vnd.jupyter.widget-view+json": {
       "model_id": "8ba9bf564b49416c92bbb4ac76abd94d",
       "version_major": 2,
       "version_minor": 0
      },
      "text/plain": [
       "HBox(children=(IntProgress(value=0, max=17), HTML(value='')))"
      ]
     },
     "metadata": {},
     "output_type": "display_data"
    },
    {
     "name": "stdout",
     "output_type": "stream",
     "text": [
      "\n",
      "Running: Akzonobel_2017\n"
     ]
    },
    {
     "data": {
      "application/vnd.jupyter.widget-view+json": {
       "model_id": "e6ebe76ed5314ea9871b96f13b438e5b",
       "version_major": 2,
       "version_minor": 0
      },
      "text/plain": [
       "HBox(children=(IntProgress(value=0, max=17), HTML(value='')))"
      ]
     },
     "metadata": {},
     "output_type": "display_data"
    },
    {
     "name": "stdout",
     "output_type": "stream",
     "text": [
      "\n"
     ]
    }
   ],
   "source": [
    "# The text files are in the output folder\n",
    "for row in files.itertuples():\n",
    "    \n",
    "    #\n",
    "    print('Running:', row.filename_no_extension)\n",
    "    \n",
    "    # Execute the notebook\n",
    "    pm.execute_notebook(\n",
    "       'mine_text.ipynb',\n",
    "       'mine_text.ipynb',\n",
    "       parameters = dict(\n",
    "           filename = row.filename_no_extension + '.txt',\n",
    "           folder = row.output_folder,\n",
    "           language = row.language,\n",
    "           filename_no_extension = row.filename_no_extension,\n",
    "           output_folder = row.output_folder\n",
    "       )\n",
    "    )"
   ]
  },
  {
   "cell_type": "markdown",
   "metadata": {},
   "source": [
    "Now we've mined each document. Only some calculations are left to be done. Things will go a lot faster from now on."
   ]
  },
  {
   "cell_type": "markdown",
   "metadata": {},
   "source": [
    "## 3. Extract the data from the output folders\n",
    "And combine it of course.\n",
    "\n",
    "Each output folder corresponds to 1 jaarverslag and has multiple CSV. Each CSV has a *tag* in its filename which describes the current stage in the text mining process, e.g. `bag_of_words`, `basic_processing`, `lemmatized`.\n",
    "\n",
    "Read them all into a large data frame `df_tf`.\n",
    "\n",
    "And calculate the term frequency `tf` which is the count normalized by the total number of words, per document."
   ]
  },
  {
   "cell_type": "code",
   "execution_count": 13,
   "metadata": {},
   "outputs": [
    {
     "name": "stdout",
     "output_type": "stream",
     "text": [
      "Reading: ../output/ABNAMRO_2017/ABNAMRO_2017_basic_processing.csv\n",
      "Shape: (2000, 3)\n",
      "Reading: ../output/AEGON_2017/AEGON_2017_basic_processing.csv\n",
      "Shape: (2000, 3)\n",
      "Reading: ../output/Akzonobel_2017/Akzonobel_2017_basic_processing.csv\n",
      "Shape: (2000, 3)\n"
     ]
    },
    {
     "data": {
      "text/html": [
       "<div>\n",
       "<style scoped>\n",
       "    .dataframe tbody tr th:only-of-type {\n",
       "        vertical-align: middle;\n",
       "    }\n",
       "\n",
       "    .dataframe tbody tr th {\n",
       "        vertical-align: top;\n",
       "    }\n",
       "\n",
       "    .dataframe thead th {\n",
       "        text-align: right;\n",
       "    }\n",
       "</style>\n",
       "<table border=\"1\" class=\"dataframe\">\n",
       "  <thead>\n",
       "    <tr style=\"text-align: right;\">\n",
       "      <th></th>\n",
       "      <th>word</th>\n",
       "      <th>count</th>\n",
       "      <th>tf</th>\n",
       "      <th>filename</th>\n",
       "    </tr>\n",
       "  </thead>\n",
       "  <tbody>\n",
       "    <tr>\n",
       "      <th>0</th>\n",
       "      <td>risk</td>\n",
       "      <td>1551</td>\n",
       "      <td>0.018978</td>\n",
       "      <td>ABNAMRO_2017</td>\n",
       "    </tr>\n",
       "    <tr>\n",
       "      <th>1</th>\n",
       "      <td>amro</td>\n",
       "      <td>1352</td>\n",
       "      <td>0.016543</td>\n",
       "      <td>ABNAMRO_2017</td>\n",
       "    </tr>\n",
       "    <tr>\n",
       "      <th>2</th>\n",
       "      <td>abn</td>\n",
       "      <td>1352</td>\n",
       "      <td>0.016543</td>\n",
       "      <td>ABNAMRO_2017</td>\n",
       "    </tr>\n",
       "    <tr>\n",
       "      <th>3</th>\n",
       "      <td>financial</td>\n",
       "      <td>1269</td>\n",
       "      <td>0.015527</td>\n",
       "      <td>ABNAMRO_2017</td>\n",
       "    </tr>\n",
       "    <tr>\n",
       "      <th>4</th>\n",
       "      <td>annual</td>\n",
       "      <td>1014</td>\n",
       "      <td>0.012407</td>\n",
       "      <td>ABNAMRO_2017</td>\n",
       "    </tr>\n",
       "  </tbody>\n",
       "</table>\n",
       "</div>"
      ],
      "text/plain": [
       "        word  count        tf      filename\n",
       "0       risk   1551  0.018978  ABNAMRO_2017\n",
       "1       amro   1352  0.016543  ABNAMRO_2017\n",
       "2        abn   1352  0.016543  ABNAMRO_2017\n",
       "3  financial   1269  0.015527  ABNAMRO_2017\n",
       "4     annual   1014  0.012407  ABNAMRO_2017"
      ]
     },
     "execution_count": 13,
     "metadata": {},
     "output_type": "execute_result"
    }
   ],
   "source": [
    "# Set the tag for which we want to fetch the data\n",
    "tag = '_basic_processing'\n",
    "\n",
    "# Initiate the all results data frame\n",
    "df_tf = pd.DataFrame()\n",
    "\n",
    "# Loop over our output files\n",
    "for row in files.itertuples():\n",
    "    # Construct the CSV filename\n",
    "    filename = row.filename_no_extension + tag + '.csv'\n",
    "    print('Reading:', join(row.output_folder, filename))\n",
    "    \n",
    "    # Pandas read\n",
    "    df = pd.read_csv(join(row.output_folder, filename),\n",
    "                     nrows=2000 # This parameter might be interesting for TF-IDF later\n",
    "                    )\n",
    "    print('Shape:', df.shape)\n",
    "\n",
    "    # Add the report name (filename without tag) as a column\n",
    "    df['filename'] = row.filename_no_extension\n",
    "    \n",
    "    # Append to rest of results\n",
    "    df_tf = df_tf.append(df)\n",
    "\n",
    "# Show a heads-up\n",
    "df_tf.head()"
   ]
  },
  {
   "cell_type": "markdown",
   "metadata": {},
   "source": [
    "## 4. Inverse document frequency\n",
    "\n",
    "### 4.1 Calculate inverse document frequency for every word\n",
    "\n",
    "IDF is the inverse function of the amount of documents the term occurs in. We define it as:\n",
    "\n",
    "$$\\text{idf}(t,D)=\\log{ \\frac{N}{|\\{d \\in D:t \\in d\\}|} }$$\n",
    "\n",
    "where $t$ is a term or word, $D$ is the collection of all documents or corpus, $N$ is the total amount of documents and $d$ is one document. $|\\{d \\in D:t \\in d\\}|$ means the sum of all documents $d$ in $D$ which have term $t$ in their body. Note that $\\log$ is the natural logarithm.\n",
    "\n",
    "See https://en.wikipedia.org/wiki/tf-idf for more info.\n",
    "\n",
    "*Note:* Maybe this will clear to many words? Maybe take into account *the counts* of other documents? For example: the word 'risk' is in every document. But perhaps in 1 document way more than in others."
   ]
  },
  {
   "cell_type": "code",
   "execution_count": 14,
   "metadata": {},
   "outputs": [
    {
     "data": {
      "text/html": [
       "<div>\n",
       "<style scoped>\n",
       "    .dataframe tbody tr th:only-of-type {\n",
       "        vertical-align: middle;\n",
       "    }\n",
       "\n",
       "    .dataframe tbody tr th {\n",
       "        vertical-align: top;\n",
       "    }\n",
       "\n",
       "    .dataframe thead th {\n",
       "        text-align: right;\n",
       "    }\n",
       "</style>\n",
       "<table border=\"1\" class=\"dataframe\">\n",
       "  <thead>\n",
       "    <tr style=\"text-align: right;\">\n",
       "      <th></th>\n",
       "      <th>word</th>\n",
       "      <th>document_count</th>\n",
       "      <th>idf</th>\n",
       "    </tr>\n",
       "  </thead>\n",
       "  <tbody>\n",
       "    <tr>\n",
       "      <th>0</th>\n",
       "      <td>aa</td>\n",
       "      <td>1</td>\n",
       "      <td>1.098612</td>\n",
       "    </tr>\n",
       "    <tr>\n",
       "      <th>1</th>\n",
       "      <td>aaa</td>\n",
       "      <td>1</td>\n",
       "      <td>1.098612</td>\n",
       "    </tr>\n",
       "    <tr>\n",
       "      <th>2</th>\n",
       "      <td>aag</td>\n",
       "      <td>1</td>\n",
       "      <td>1.098612</td>\n",
       "    </tr>\n",
       "    <tr>\n",
       "      <th>3</th>\n",
       "      <td>aandelenlease</td>\n",
       "      <td>1</td>\n",
       "      <td>1.098612</td>\n",
       "    </tr>\n",
       "    <tr>\n",
       "      <th>4</th>\n",
       "      <td>ab</td>\n",
       "      <td>1</td>\n",
       "      <td>1.098612</td>\n",
       "    </tr>\n",
       "  </tbody>\n",
       "</table>\n",
       "</div>"
      ],
      "text/plain": [
       "            word  document_count       idf\n",
       "0             aa               1  1.098612\n",
       "1            aaa               1  1.098612\n",
       "2            aag               1  1.098612\n",
       "3  aandelenlease               1  1.098612\n",
       "4             ab               1  1.098612"
      ]
     },
     "execution_count": 14,
     "metadata": {},
     "output_type": "execute_result"
    }
   ],
   "source": [
    "# Extract and count unique filenames in the data frame\n",
    "N = len(set(df_tf['filename']))\n",
    "\n",
    "# Group by word and count the amount of filenames\n",
    "idf = (df_tf.groupby(by='word', as_index=False)['filename'].count()\n",
    "       .rename(columns={'filename': 'document_count'})\n",
    "      )\n",
    "\n",
    "# Calculate IDF from the document count\n",
    "import numpy as np\n",
    "idf['idf'] = np.log(N/idf['document_count'])\n",
    "idf.head()"
   ]
  },
  {
   "cell_type": "markdown",
   "metadata": {},
   "source": [
    "### 4.2 Join each jaarverslag's TF list with the great IDF list\n",
    "The IDF data frame is a collection of all words in the corpus, information about with words belongs to which document is lost. The TF data frame contains the words (and counts) per document.\n",
    "\n",
    "So join TF with IDF and calculate TF-IDF for every word in every document."
   ]
  },
  {
   "cell_type": "code",
   "execution_count": 16,
   "metadata": {
    "scrolled": true
   },
   "outputs": [
    {
     "data": {
      "text/html": [
       "<div>\n",
       "<style scoped>\n",
       "    .dataframe tbody tr th:only-of-type {\n",
       "        vertical-align: middle;\n",
       "    }\n",
       "\n",
       "    .dataframe tbody tr th {\n",
       "        vertical-align: top;\n",
       "    }\n",
       "\n",
       "    .dataframe thead th {\n",
       "        text-align: right;\n",
       "    }\n",
       "</style>\n",
       "<table border=\"1\" class=\"dataframe\">\n",
       "  <thead>\n",
       "    <tr style=\"text-align: right;\">\n",
       "      <th></th>\n",
       "      <th>word</th>\n",
       "      <th>count</th>\n",
       "      <th>tf</th>\n",
       "      <th>filename</th>\n",
       "      <th>document_count</th>\n",
       "      <th>idf</th>\n",
       "      <th>tf-idf</th>\n",
       "    </tr>\n",
       "  </thead>\n",
       "  <tbody>\n",
       "    <tr>\n",
       "      <th>1</th>\n",
       "      <td>amro</td>\n",
       "      <td>1352</td>\n",
       "      <td>0.016543</td>\n",
       "      <td>ABNAMRO_2017</td>\n",
       "      <td>1</td>\n",
       "      <td>1.098612</td>\n",
       "      <td>0.018174</td>\n",
       "    </tr>\n",
       "    <tr>\n",
       "      <th>2</th>\n",
       "      <td>abn</td>\n",
       "      <td>1352</td>\n",
       "      <td>0.016543</td>\n",
       "      <td>ABNAMRO_2017</td>\n",
       "      <td>1</td>\n",
       "      <td>1.098612</td>\n",
       "      <td>0.018174</td>\n",
       "    </tr>\n",
       "    <tr>\n",
       "      <th>6</th>\n",
       "      <td>eur</td>\n",
       "      <td>892</td>\n",
       "      <td>0.010914</td>\n",
       "      <td>ABNAMRO_2017</td>\n",
       "      <td>2</td>\n",
       "      <td>0.405465</td>\n",
       "      <td>0.004425</td>\n",
       "    </tr>\n",
       "    <tr>\n",
       "      <th>50</th>\n",
       "      <td>banks</td>\n",
       "      <td>209</td>\n",
       "      <td>0.002557</td>\n",
       "      <td>ABNAMRO_2017</td>\n",
       "      <td>1</td>\n",
       "      <td>1.098612</td>\n",
       "      <td>0.002809</td>\n",
       "    </tr>\n",
       "    <tr>\n",
       "      <th>14</th>\n",
       "      <td>bank</td>\n",
       "      <td>497</td>\n",
       "      <td>0.006081</td>\n",
       "      <td>ABNAMRO_2017</td>\n",
       "      <td>2</td>\n",
       "      <td>0.405465</td>\n",
       "      <td>0.002466</td>\n",
       "    </tr>\n",
       "    <tr>\n",
       "      <th>18</th>\n",
       "      <td>banking</td>\n",
       "      <td>469</td>\n",
       "      <td>0.005739</td>\n",
       "      <td>ABNAMRO_2017</td>\n",
       "      <td>2</td>\n",
       "      <td>0.405465</td>\n",
       "      <td>0.002327</td>\n",
       "    </tr>\n",
       "    <tr>\n",
       "      <th>29</th>\n",
       "      <td>leadership</td>\n",
       "      <td>373</td>\n",
       "      <td>0.004564</td>\n",
       "      <td>ABNAMRO_2017</td>\n",
       "      <td>2</td>\n",
       "      <td>0.405465</td>\n",
       "      <td>0.001851</td>\n",
       "    </tr>\n",
       "    <tr>\n",
       "      <th>86</th>\n",
       "      <td>recognised</td>\n",
       "      <td>135</td>\n",
       "      <td>0.001652</td>\n",
       "      <td>ABNAMRO_2017</td>\n",
       "      <td>1</td>\n",
       "      <td>1.098612</td>\n",
       "      <td>0.001815</td>\n",
       "    </tr>\n",
       "    <tr>\n",
       "      <th>35</th>\n",
       "      <td>clients</td>\n",
       "      <td>286</td>\n",
       "      <td>0.003499</td>\n",
       "      <td>ABNAMRO_2017</td>\n",
       "      <td>2</td>\n",
       "      <td>0.405465</td>\n",
       "      <td>0.001419</td>\n",
       "    </tr>\n",
       "    <tr>\n",
       "      <th>168</th>\n",
       "      <td>depositary</td>\n",
       "      <td>79</td>\n",
       "      <td>0.000967</td>\n",
       "      <td>ABNAMRO_2017</td>\n",
       "      <td>1</td>\n",
       "      <td>1.098612</td>\n",
       "      <td>0.001062</td>\n",
       "    </tr>\n",
       "  </tbody>\n",
       "</table>\n",
       "</div>"
      ],
      "text/plain": [
       "           word  count        tf      filename  document_count       idf  \\\n",
       "1          amro   1352  0.016543  ABNAMRO_2017               1  1.098612   \n",
       "2           abn   1352  0.016543  ABNAMRO_2017               1  1.098612   \n",
       "6           eur    892  0.010914  ABNAMRO_2017               2  0.405465   \n",
       "50        banks    209  0.002557  ABNAMRO_2017               1  1.098612   \n",
       "14         bank    497  0.006081  ABNAMRO_2017               2  0.405465   \n",
       "18      banking    469  0.005739  ABNAMRO_2017               2  0.405465   \n",
       "29   leadership    373  0.004564  ABNAMRO_2017               2  0.405465   \n",
       "86   recognised    135  0.001652  ABNAMRO_2017               1  1.098612   \n",
       "35      clients    286  0.003499  ABNAMRO_2017               2  0.405465   \n",
       "168  depositary     79  0.000967  ABNAMRO_2017               1  1.098612   \n",
       "\n",
       "       tf-idf  \n",
       "1    0.018174  \n",
       "2    0.018174  \n",
       "6    0.004425  \n",
       "50   0.002809  \n",
       "14   0.002466  \n",
       "18   0.002327  \n",
       "29   0.001851  \n",
       "86   0.001815  \n",
       "35   0.001419  \n",
       "168  0.001062  "
      ]
     },
     "execution_count": 16,
     "metadata": {},
     "output_type": "execute_result"
    }
   ],
   "source": [
    "# Join TF with IDF\n",
    "df_tfidf = df_tf.merge(idf, how='left', on='word')\n",
    "\n",
    "# Calculate TF-IDF\n",
    "df_tfidf['tf-idf'] = df_tfidf['tf'] * df_tfidf['idf']\n",
    "\n",
    "# Sort\n",
    "df_tfidf.sort_values(by=['filename', 'tf-idf'], ascending=[True, False], inplace=True)\n",
    "df_tfidf.head(10)"
   ]
  },
  {
   "cell_type": "code",
   "execution_count": 19,
   "metadata": {},
   "outputs": [],
   "source": [
    "# Save as CSV\n",
    "output_folder = '../output'\n",
    "df_tfidf.to_csv(\n",
    "    join(output_folder, 'Alle_jaarverslagen' + tag + '.csv'),\n",
    "    index=False\n",
    ")"
   ]
  },
  {
   "cell_type": "markdown",
   "metadata": {},
   "source": [
    "TODO: generate word clouds for each `filename` in `df_tfidf`."
   ]
  },
  {
   "cell_type": "code",
   "execution_count": null,
   "metadata": {},
   "outputs": [],
   "source": []
  }
 ],
 "metadata": {
  "kernelspec": {
   "display_name": "Python 3",
   "language": "python",
   "name": "python3"
  },
  "language_info": {
   "codemirror_mode": {
    "name": "ipython",
    "version": 3
   },
   "file_extension": ".py",
   "mimetype": "text/x-python",
   "name": "python",
   "nbconvert_exporter": "python",
   "pygments_lexer": "ipython3",
   "version": "3.7.2"
  }
 },
 "nbformat": 4,
 "nbformat_minor": 2
}
