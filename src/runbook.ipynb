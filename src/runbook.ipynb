{
 "cells": [
  {
   "cell_type": "markdown",
   "metadata": {},
   "source": [
    "# Text mining jaarverslagen\n",
    "1. Read info from the `file_list.csv`.\n",
    "2. Uses `analyse_jaarverslag.ipynb` to analyse each jaarverslag, one at a time."
   ]
  },
  {
   "cell_type": "markdown",
   "metadata": {},
   "source": [
    "## 1. Read from `file_list.csv`"
   ]
  },
  {
   "cell_type": "code",
   "execution_count": 1,
   "metadata": {},
   "outputs": [
    {
     "data": {
      "text/html": [
       "<div>\n",
       "<style scoped>\n",
       "    .dataframe tbody tr th:only-of-type {\n",
       "        vertical-align: middle;\n",
       "    }\n",
       "\n",
       "    .dataframe tbody tr th {\n",
       "        vertical-align: top;\n",
       "    }\n",
       "\n",
       "    .dataframe thead th {\n",
       "        text-align: right;\n",
       "    }\n",
       "</style>\n",
       "<table border=\"1\" class=\"dataframe\">\n",
       "  <thead>\n",
       "    <tr style=\"text-align: right;\">\n",
       "      <th></th>\n",
       "      <th>filename</th>\n",
       "      <th>language</th>\n",
       "    </tr>\n",
       "  </thead>\n",
       "  <tbody>\n",
       "    <tr>\n",
       "      <th>0</th>\n",
       "      <td>ABNAMRO_2017.pdf</td>\n",
       "      <td>english</td>\n",
       "    </tr>\n",
       "    <tr>\n",
       "      <th>1</th>\n",
       "      <td>AEGON_2017.pdf</td>\n",
       "      <td>english</td>\n",
       "    </tr>\n",
       "    <tr>\n",
       "      <th>2</th>\n",
       "      <td>Akzonobel_2017.pdf</td>\n",
       "      <td>english</td>\n",
       "    </tr>\n",
       "    <tr>\n",
       "      <th>3</th>\n",
       "      <td>Heineken_2017.pdf</td>\n",
       "      <td>english</td>\n",
       "    </tr>\n",
       "    <tr>\n",
       "      <th>4</th>\n",
       "      <td>ING_Groep_2017.pdf</td>\n",
       "      <td>english</td>\n",
       "    </tr>\n",
       "    <tr>\n",
       "      <th>5</th>\n",
       "      <td>KPN_2017.pdf</td>\n",
       "      <td>english</td>\n",
       "    </tr>\n",
       "    <tr>\n",
       "      <th>6</th>\n",
       "      <td>Philips_2017.pdf</td>\n",
       "      <td>english</td>\n",
       "    </tr>\n",
       "    <tr>\n",
       "      <th>7</th>\n",
       "      <td>Unilever_2017.pdf</td>\n",
       "      <td>english</td>\n",
       "    </tr>\n",
       "  </tbody>\n",
       "</table>\n",
       "</div>"
      ],
      "text/plain": [
       "             filename language\n",
       "0    ABNAMRO_2017.pdf  english\n",
       "1      AEGON_2017.pdf  english\n",
       "2  Akzonobel_2017.pdf  english\n",
       "3   Heineken_2017.pdf  english\n",
       "4  ING_Groep_2017.pdf  english\n",
       "5        KPN_2017.pdf  english\n",
       "6    Philips_2017.pdf  english\n",
       "7   Unilever_2017.pdf  english"
      ]
     },
     "execution_count": 1,
     "metadata": {},
     "output_type": "execute_result"
    }
   ],
   "source": [
    "from os.path import join, isfile\n",
    "import pandas as pd\n",
    "\n",
    "folder = '../jaarverslagen'\n",
    "files = pd.read_csv(join(folder, 'file_list.csv'))\n",
    "files"
   ]
  },
  {
   "cell_type": "markdown",
   "metadata": {},
   "source": [
    "## 2. Run through all jaarverslagen\n",
    "Using `papermill`, see https://papermill.readthedocs.io/en/latest/usage.html.\n",
    "\n",
    "How does this work with my virtual environment `tmj`?\n",
    "* Jupyter Notebook is served from `base` environment which has `widgetnbextension` enabled\n",
    "* Next `ipywidgets` is installed in this kernel's environment `tmj`\n",
    "* See https://ipywidgets.readthedocs.io/en/stable/user_install.html#installing-with-multiple-environments for more info about this"
   ]
  },
  {
   "cell_type": "code",
   "execution_count": 2,
   "metadata": {},
   "outputs": [],
   "source": [
    "import papermill as pm"
   ]
  },
  {
   "cell_type": "markdown",
   "metadata": {},
   "source": [
    "We'll execute the notebook `analyse_jaarverslag` and have the same output file as the input file. This means that the parameters will be inserted (`injected-paramaters` cell) into the original notebook."
   ]
  },
  {
   "cell_type": "code",
   "execution_count": 23,
   "metadata": {
    "scrolled": true
   },
   "outputs": [
    {
     "name": "stdout",
     "output_type": "stream",
     "text": [
      "Running: ABNAMRO_2017.pdf\n"
     ]
    },
    {
     "data": {
      "application/vnd.jupyter.widget-view+json": {
       "model_id": "e647b1751b134e4e9b10fd5963f80e91",
       "version_major": 2,
       "version_minor": 0
      },
      "text/plain": [
       "HBox(children=(IntProgress(value=0, max=18), HTML(value='')))"
      ]
     },
     "metadata": {},
     "output_type": "display_data"
    },
    {
     "name": "stdout",
     "output_type": "stream",
     "text": [
      "\n",
      "Running: AEGON_2017.pdf\n"
     ]
    },
    {
     "data": {
      "application/vnd.jupyter.widget-view+json": {
       "model_id": "d14c13e52f9548a2a467611d6bfdbe13",
       "version_major": 2,
       "version_minor": 0
      },
      "text/plain": [
       "HBox(children=(IntProgress(value=0, max=18), HTML(value='')))"
      ]
     },
     "metadata": {},
     "output_type": "display_data"
    },
    {
     "name": "stdout",
     "output_type": "stream",
     "text": [
      "\n",
      "Running: Akzonobel_2017.pdf\n"
     ]
    },
    {
     "data": {
      "application/vnd.jupyter.widget-view+json": {
       "model_id": "0a78c538b9fe458191ee58ac13a6285e",
       "version_major": 2,
       "version_minor": 0
      },
      "text/plain": [
       "HBox(children=(IntProgress(value=0, max=18), HTML(value='')))"
      ]
     },
     "metadata": {},
     "output_type": "display_data"
    },
    {
     "name": "stdout",
     "output_type": "stream",
     "text": [
      "\n",
      "Running: Heineken_2017.pdf\n"
     ]
    },
    {
     "data": {
      "application/vnd.jupyter.widget-view+json": {
       "model_id": "1e83ad7019fc49a792d862ee97d5529c",
       "version_major": 2,
       "version_minor": 0
      },
      "text/plain": [
       "HBox(children=(IntProgress(value=0, max=18), HTML(value='')))"
      ]
     },
     "metadata": {},
     "output_type": "display_data"
    },
    {
     "name": "stdout",
     "output_type": "stream",
     "text": [
      "\n",
      "Running: ING_Groep_2017.pdf\n"
     ]
    },
    {
     "data": {
      "application/vnd.jupyter.widget-view+json": {
       "model_id": "3565e223d14b408e9ad69b8e32e8d3d8",
       "version_major": 2,
       "version_minor": 0
      },
      "text/plain": [
       "HBox(children=(IntProgress(value=0, max=18), HTML(value='')))"
      ]
     },
     "metadata": {},
     "output_type": "display_data"
    },
    {
     "name": "stdout",
     "output_type": "stream",
     "text": [
      "\n",
      "Running: KPN_2017.pdf\n"
     ]
    },
    {
     "data": {
      "application/vnd.jupyter.widget-view+json": {
       "model_id": "1c838538d06b4d099b585f330ee7ae53",
       "version_major": 2,
       "version_minor": 0
      },
      "text/plain": [
       "HBox(children=(IntProgress(value=0, max=18), HTML(value='')))"
      ]
     },
     "metadata": {},
     "output_type": "display_data"
    },
    {
     "name": "stdout",
     "output_type": "stream",
     "text": [
      "\n",
      "Running: Philips_2017.pdf\n"
     ]
    },
    {
     "data": {
      "application/vnd.jupyter.widget-view+json": {
       "model_id": "73043f1690a64be6a3653bf5263cea03",
       "version_major": 2,
       "version_minor": 0
      },
      "text/plain": [
       "HBox(children=(IntProgress(value=0, max=18), HTML(value='')))"
      ]
     },
     "metadata": {},
     "output_type": "display_data"
    },
    {
     "name": "stdout",
     "output_type": "stream",
     "text": [
      "\n",
      "Running: Unilever_2017.pdf\n"
     ]
    },
    {
     "data": {
      "application/vnd.jupyter.widget-view+json": {
       "model_id": "aed906c3384e460089beb1eb3e96f387",
       "version_major": 2,
       "version_minor": 0
      },
      "text/plain": [
       "HBox(children=(IntProgress(value=0, max=18), HTML(value='')))"
      ]
     },
     "metadata": {},
     "output_type": "display_data"
    },
    {
     "name": "stdout",
     "output_type": "stream",
     "text": [
      "\n"
     ]
    }
   ],
   "source": [
    "# Loop over all files\n",
    "for row in files.itertuples():\n",
    "    \n",
    "    #\n",
    "    print('Running:', row.filename)\n",
    "    \n",
    "    # First check if it exists\n",
    "    if not isfile(join(folder, row.filename)):\n",
    "        print('File not found:', row.filename)\n",
    "        continue\n",
    "    \n",
    "    # Execute the notebook\n",
    "    pm.execute_notebook(\n",
    "       'analyse_jaarverslag.ipynb',\n",
    "       'analyse_jaarverslag.ipynb',\n",
    "       parameters = dict(filename = row.filename,\n",
    "                         folder = folder,\n",
    "                         language = row.language)\n",
    "    )"
   ]
  },
  {
   "cell_type": "markdown",
   "metadata": {},
   "source": [
    "## 3. Extract the data from the output folders\n",
    "And combine it of course.\n",
    "\n",
    "Each output folder corresponds to 1 jaarverslag and includes multiple CSV-PNG couples. Each CSV (table with unique words and their frequencies) and PNG (accompanying word cloud) have a *tag* which describes the current stage in the text mining process."
   ]
  },
  {
   "cell_type": "code",
   "execution_count": 110,
   "metadata": {},
   "outputs": [],
   "source": [
    "# Let's stick to one tag for now\n",
    "tag = '_basic_processing'\n",
    "\n",
    "# Our output folder\n",
    "output_folder = '../output/'\n",
    "\n",
    "# Maximum words (most common) to extract from the files\n",
    "max_rows = 1000"
   ]
  },
  {
   "cell_type": "code",
   "execution_count": 111,
   "metadata": {
    "scrolled": true
   },
   "outputs": [
    {
     "data": {
      "text/plain": [
       "[('../output/ABNAMRO_2017', 'ABNAMRO_2017_basic_processing.csv'),\n",
       " ('../output/AEGON_2017', 'AEGON_2017_basic_processing.csv'),\n",
       " ('../output/Akzonobel_2017', 'Akzonobel_2017_basic_processing.csv'),\n",
       " ('../output/Heineken_2017', 'Heineken_2017_basic_processing.csv'),\n",
       " ('../output/ING_Groep_2017', 'ING_Groep_2017_basic_processing.csv'),\n",
       " ('../output/KPN_2017', 'KPN_2017_basic_processing.csv'),\n",
       " ('../output/Philips_2017', 'Philips_2017_basic_processing.csv'),\n",
       " ('../output/Unilever_2017', 'Unilever_2017_basic_processing.csv')]"
      ]
     },
     "execution_count": 111,
     "metadata": {},
     "output_type": "execute_result"
    }
   ],
   "source": [
    "# Create a list (of tuples) with the path and filename of our CSVs\n",
    "csvs = []\n",
    "for path, _, files in walk(output_folder):\n",
    "    for filename in files:\n",
    "        # Only store the CSVs we're interested in\n",
    "        if re.match('.+' + tag + '\\.csv', filename):\n",
    "            csvs.append((path, filename))\n",
    "\n",
    "csvs"
   ]
  },
  {
   "cell_type": "markdown",
   "metadata": {},
   "source": [
    "Now we have the files we need. Read them into a large data frame."
   ]
  },
  {
   "cell_type": "code",
   "execution_count": 112,
   "metadata": {
    "scrolled": true
   },
   "outputs": [
    {
     "name": "stdout",
     "output_type": "stream",
     "text": [
      "(1000, 3)\n",
      "(2000, 3)\n",
      "(3000, 3)\n",
      "(4000, 3)\n",
      "(5000, 3)\n",
      "(6000, 3)\n",
      "(7000, 3)\n",
      "(8000, 3)\n"
     ]
    },
    {
     "data": {
      "text/html": [
       "<div>\n",
       "<style scoped>\n",
       "    .dataframe tbody tr th:only-of-type {\n",
       "        vertical-align: middle;\n",
       "    }\n",
       "\n",
       "    .dataframe tbody tr th {\n",
       "        vertical-align: top;\n",
       "    }\n",
       "\n",
       "    .dataframe thead th {\n",
       "        text-align: right;\n",
       "    }\n",
       "</style>\n",
       "<table border=\"1\" class=\"dataframe\">\n",
       "  <thead>\n",
       "    <tr style=\"text-align: right;\">\n",
       "      <th></th>\n",
       "      <th>word</th>\n",
       "      <th>count</th>\n",
       "      <th>filename</th>\n",
       "    </tr>\n",
       "  </thead>\n",
       "  <tbody>\n",
       "    <tr>\n",
       "      <th>0</th>\n",
       "      <td>risk</td>\n",
       "      <td>1544</td>\n",
       "      <td>ABNAMRO_2017</td>\n",
       "    </tr>\n",
       "    <tr>\n",
       "      <th>1</th>\n",
       "      <td>amro</td>\n",
       "      <td>1352</td>\n",
       "      <td>ABNAMRO_2017</td>\n",
       "    </tr>\n",
       "    <tr>\n",
       "      <th>2</th>\n",
       "      <td>abn</td>\n",
       "      <td>1352</td>\n",
       "      <td>ABNAMRO_2017</td>\n",
       "    </tr>\n",
       "    <tr>\n",
       "      <th>3</th>\n",
       "      <td>2017</td>\n",
       "      <td>1294</td>\n",
       "      <td>ABNAMRO_2017</td>\n",
       "    </tr>\n",
       "    <tr>\n",
       "      <th>4</th>\n",
       "      <td>financial</td>\n",
       "      <td>1269</td>\n",
       "      <td>ABNAMRO_2017</td>\n",
       "    </tr>\n",
       "  </tbody>\n",
       "</table>\n",
       "</div>"
      ],
      "text/plain": [
       "        word  count      filename\n",
       "0       risk   1544  ABNAMRO_2017\n",
       "1       amro   1352  ABNAMRO_2017\n",
       "2        abn   1352  ABNAMRO_2017\n",
       "3       2017   1294  ABNAMRO_2017\n",
       "4  financial   1269  ABNAMRO_2017"
      ]
     },
     "execution_count": 112,
     "metadata": {},
     "output_type": "execute_result"
    }
   ],
   "source": [
    "import pandas as pd\n",
    "\n",
    "# Initiate all results data frame\n",
    "df_large = pd.DataFrame()\n",
    "\n",
    "# Loop over our files\n",
    "for (path, filename) in csvs:\n",
    "    # Pandas read\n",
    "    df = pd.read_csv(join(path, filename), header=None, names=['word', 'count'],\n",
    "                     #nrows=max_rows # For debugging only\n",
    "                    )\n",
    "\n",
    "    # Sort (again, but just to make sure)\n",
    "    df.sort_values(by='count', ascending=False, inplace=True)\n",
    "\n",
    "    # Truncate to maximum rows\n",
    "    df = df[:max_rows]\n",
    "\n",
    "    # Add the report name (filename without tag) as a column\n",
    "    df['filename'] = re.match('(.+)' + tag + '\\.csv', filename).group(1)\n",
    "\n",
    "    # Append to rest of results\n",
    "    df_large = df_large.append(df)\n",
    "    print(df_large.shape)\n",
    "\n",
    "df_large.head()"
   ]
  },
  {
   "cell_type": "code",
   "execution_count": 113,
   "metadata": {},
   "outputs": [],
   "source": [
    "# Save as CSV\n",
    "df_large.to_csv(join(output_folder, 'Alle_jaarverslagen' + tag + '.csv'),\n",
    "                index=False\n",
    "               )"
   ]
  },
  {
   "cell_type": "markdown",
   "metadata": {},
   "source": [
    "## 4. Inverse document frequency"
   ]
  },
  {
   "cell_type": "code",
   "execution_count": null,
   "metadata": {},
   "outputs": [],
   "source": []
  }
 ],
 "metadata": {
  "kernelspec": {
   "display_name": "tmj",
   "language": "python",
   "name": "tmj"
  },
  "language_info": {
   "codemirror_mode": {
    "name": "ipython",
    "version": 3
   },
   "file_extension": ".py",
   "mimetype": "text/x-python",
   "name": "python",
   "nbconvert_exporter": "python",
   "pygments_lexer": "ipython3",
   "version": "3.7.2"
  }
 },
 "nbformat": 4,
 "nbformat_minor": 2
}
