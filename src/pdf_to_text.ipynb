{
 "cells": [
  {
   "cell_type": "markdown",
   "metadata": {
    "papermill": {
     "duration": 0.043692,
     "end_time": "2019-02-05T18:35:38.155542",
     "exception": false,
     "start_time": "2019-02-05T18:35:38.111850",
     "status": "completed"
    },
    "tags": []
   },
   "source": [
    "# PDF to text\n",
    "Part of project \"Text mining jaarverslagen\".\n",
    "\n",
    "Use the kernel `tmj` which I've made in the virtual environment `~/venv/tmj`. This environment holds all the needed packages and so I can manage them without interfering with the system Python installation or other Python projects."
   ]
  },
  {
   "cell_type": "code",
   "execution_count": 1,
   "metadata": {
    "papermill": {
     "duration": 0.029692,
     "end_time": "2019-02-05T18:35:38.209504",
     "exception": false,
     "start_time": "2019-02-05T18:35:38.179812",
     "status": "completed"
    },
    "tags": []
   },
   "outputs": [],
   "source": [
    "from os.path import join\n",
    "import re"
   ]
  },
  {
   "cell_type": "code",
   "execution_count": 2,
   "metadata": {
    "papermill": {
     "duration": 0.026089,
     "end_time": "2019-02-05T18:35:38.251391",
     "exception": false,
     "start_time": "2019-02-05T18:35:38.225302",
     "status": "completed"
    },
    "tags": [
     "parameters"
    ]
   },
   "outputs": [],
   "source": [
    "# Setup\n",
    "filename = 'AEGON_2017.pdf'\n",
    "folder = '../jaarverslagen'\n",
    "filename_no_extension = re.search('(.*)\\.pdf', filename).group(1)\n",
    "output_folder = join('../output', filename_no_extension)"
   ]
  },
  {
   "cell_type": "code",
   "execution_count": 3,
   "metadata": {
    "papermill": {
     "duration": 0.025151,
     "end_time": "2019-02-05T18:35:38.292355",
     "exception": false,
     "start_time": "2019-02-05T18:35:38.267204",
     "status": "completed"
    },
    "tags": [
     "injected-parameters"
    ]
   },
   "outputs": [],
   "source": [
    "# Parameters\n",
    "filename = \"Akzonobel_2017.pdf\"\n",
    "folder = \"../jaarverslagen\"\n",
    "filename_no_extension = \"Akzonobel_2017\"\n",
    "output_folder = \"../output/Akzonobel_2017\"\n"
   ]
  },
  {
   "cell_type": "code",
   "execution_count": 4,
   "metadata": {
    "papermill": {
     "duration": 18.660649,
     "end_time": "2019-02-05T18:35:56.970685",
     "exception": false,
     "start_time": "2019-02-05T18:35:38.310036",
     "status": "completed"
    },
    "tags": []
   },
   "outputs": [
    {
     "name": "stdout",
     "output_type": "stream",
     "text": [
      "5265706f72740a0a31370a0a0c416b7a6f4e6f62656c20696e2032303137206174206120676c616e63650a4372656174696e ...\n"
     ]
    }
   ],
   "source": [
    "# Extract text (as bytes) from pdf\n",
    "import textract\n",
    "text = textract.process(join(folder, filename))\n",
    "print(text.hex()[:100], '...')\n",
    "\n",
    "# Textract encodes as UTF-8, so decode back to text before proceding\n",
    "text = text.decode('utf-8')"
   ]
  },
  {
   "cell_type": "code",
   "execution_count": 5,
   "metadata": {
    "papermill": {
     "duration": 0.044077,
     "end_time": "2019-02-05T18:35:57.035451",
     "exception": false,
     "start_time": "2019-02-05T18:35:56.991374",
     "status": "completed"
    },
    "tags": []
   },
   "outputs": [],
   "source": [
    "# Maybe decompose to get rid of the accents? Nah"
   ]
  },
  {
   "cell_type": "code",
   "execution_count": 6,
   "metadata": {
    "papermill": {
     "duration": 0.048439,
     "end_time": "2019-02-05T18:35:57.103989",
     "exception": false,
     "start_time": "2019-02-05T18:35:57.055550",
     "status": "completed"
    },
    "tags": []
   },
   "outputs": [
    {
     "name": "stdout",
     "output_type": "stream",
     "text": [
      "Saved as: ../output/Akzonobel_2017/Akzonobel_2017.txt\n"
     ]
    }
   ],
   "source": [
    "# Save as text\n",
    "save_as = join(output_folder, filename_no_extension + '.txt')\n",
    "with open(save_as, 'w+') as file:\n",
    "    file.write(text)\n",
    "\n",
    "print('Saved as:', save_as)"
   ]
  }
 ],
 "metadata": {
  "celltoolbar": "Tags",
  "kernelspec": {
   "display_name": "tmj",
   "language": "python",
   "name": "tmj"
  },
  "language_info": {
   "codemirror_mode": {
    "name": "ipython",
    "version": 3
   },
   "file_extension": ".py",
   "mimetype": "text/x-python",
   "name": "python",
   "nbconvert_exporter": "python",
   "pygments_lexer": "ipython3",
   "version": "3.7.2"
  },
  "papermill": {
   "duration": 20.382381,
   "end_time": "2019-02-05T18:35:57.455304",
   "environment_variables": {},
   "exception": null,
   "input_path": "pdf_to_text.ipynb",
   "output_path": "pdf_to_text.ipynb",
   "parameters": {
    "filename": "Akzonobel_2017.pdf",
    "filename_no_extension": "Akzonobel_2017",
    "folder": "../jaarverslagen",
    "output_folder": "../output/Akzonobel_2017"
   },
   "start_time": "2019-02-05T18:35:37.072923",
   "version": "0.17.1"
  }
 },
 "nbformat": 4,
 "nbformat_minor": 2
}