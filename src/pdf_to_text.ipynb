{
 "cells": [
  {
   "cell_type": "markdown",
   "metadata": {
    "papermill": {
     "duration": 0.044022,
     "end_time": "2019-02-08T10:15:01.764133",
     "exception": false,
     "start_time": "2019-02-08T10:15:01.720111",
     "status": "completed"
    },
    "tags": []
   },
   "source": [
    "# PDF to text\n",
    "Part of project \"Text mining jaarverslagen\".\n",
    "\n",
    "Use the kernel `tmj` which I've made in the virtual environment `~/venv/tmj`. This environment holds all the needed packages and so I can manage them without interfering with the system Python installation or other Python projects."
   ]
  },
  {
   "cell_type": "code",
   "execution_count": 1,
   "metadata": {
    "papermill": {
     "duration": 0.051457,
     "end_time": "2019-02-08T10:15:01.858505",
     "exception": false,
     "start_time": "2019-02-08T10:15:01.807048",
     "status": "completed"
    },
    "tags": []
   },
   "outputs": [],
   "source": [
    "from os.path import join\n",
    "import re"
   ]
  },
  {
   "cell_type": "code",
   "execution_count": 2,
   "metadata": {
    "papermill": {
     "duration": 0.077389,
     "end_time": "2019-02-08T10:15:01.964126",
     "exception": false,
     "start_time": "2019-02-08T10:15:01.886737",
     "status": "completed"
    },
    "tags": [
     "parameters"
    ]
   },
   "outputs": [],
   "source": [
    "# Parameters\n",
    "filename = 'AEGON_2017.pdf'\n",
    "folder = '../jaarverslagen'\n",
    "filename_no_extension = re.search('(.*)\\.pdf', filename).group(1)\n",
    "output_folder = join('../output', filename_no_extension)"
   ]
  },
  {
   "cell_type": "code",
   "execution_count": 3,
   "metadata": {
    "papermill": {
     "duration": 0.099111,
     "end_time": "2019-02-08T10:15:02.128629",
     "exception": false,
     "start_time": "2019-02-08T10:15:02.029518",
     "status": "completed"
    },
    "tags": [
     "injected-parameters"
    ]
   },
   "outputs": [],
   "source": [
    "# Parameters\n",
    "filename = \"Heineken_2017.pdf\"\n",
    "folder = \"../jaarverslagen\"\n",
    "filename_no_extension = \"Heineken_2017\"\n",
    "output_folder = \"../output/Heineken_2017\"\n"
   ]
  },
  {
   "cell_type": "code",
   "execution_count": 4,
   "metadata": {
    "papermill": {
     "duration": 59.071745,
     "end_time": "2019-02-08T10:16:01.255001",
     "exception": false,
     "start_time": "2019-02-08T10:15:02.183256",
     "status": "completed"
    },
    "tags": []
   },
   "outputs": [],
   "source": [
    "# Extract text (as bytes) from pdf\n",
    "import textract\n",
    "text = textract.process(join(folder, filename))\n",
    "print(text.hex()[:100], '...\\n')\n",
    "\n",
    "# Textract encodes as UTF-8, so decode back to text before proceding\n",
    "text = text.decode('utf-8')\n",
    "print(text[:100], '...')"
   ]
  },
  {
   "cell_type": "markdown",
   "metadata": {
    "papermill": {
     "duration": null,
     "end_time": null,
     "exception": null,
     "start_time": null,
     "status": "completed"
    },
    "tags": []
   },
   "source": [
    "Maybe decompose to get rid of the accents? Nah"
   ]
  },
  {
   "cell_type": "code",
   "execution_count": null,
   "metadata": {
    "papermill": {
     "duration": null,
     "end_time": null,
     "exception": null,
     "start_time": null,
     "status": "completed"
    },
    "tags": []
   },
   "outputs": [],
   "source": [
    "# Save as text\n",
    "save_as = join(output_folder, filename_no_extension + '.txt')\n",
    "with open(save_as, 'w+') as file:\n",
    "    file.write(text)\n",
    "\n",
    "print('Saved as:', save_as)"
   ]
  }
 ],
 "metadata": {
  "celltoolbar": "Tags",
  "kernelspec": {
   "display_name": "Python 3",
   "language": "python",
   "name": "python3"
  },
  "language_info": {
   "codemirror_mode": {
    "name": "ipython",
    "version": 3
   },
   "file_extension": ".py",
   "mimetype": "text/x-python",
   "name": "python",
   "nbconvert_exporter": "python",
   "pygments_lexer": "ipython3",
   "version": "3.7.1"
  },
  "papermill": {
   "duration": 67.157044,
   "end_time": "2019-02-08T10:16:06.863364",
   "environment_variables": {},
   "exception": null,
   "input_path": "pdf_to_text.ipynb",
   "output_path": "pdf_to_text.ipynb",
   "parameters": {
    "filename": "Heineken_2017.pdf",
    "filename_no_extension": "Heineken_2017",
    "folder": "../jaarverslagen",
    "output_folder": "../output/Heineken_2017"
   },
   "start_time": "2019-02-08T10:14:59.706320",
   "version": "0.17.1"
  }
 },
 "nbformat": 4,
 "nbformat_minor": 2
}
